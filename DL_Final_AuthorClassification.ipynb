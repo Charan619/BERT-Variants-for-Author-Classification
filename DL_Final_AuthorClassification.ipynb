{
  "cells": [
    {
      "cell_type": "markdown",
      "source": [
        "# Comparative Analysis of BERT Model Variants for Author Classification in English Literature"
      ],
      "metadata": {
        "id": "CrSnQ6D5rVwk"
      },
      "id": "CrSnQ6D5rVwk"
    },
    {
      "cell_type": "markdown",
      "source": [
        "Authorship classification, or figuring out who wrote a piece of writing, is an important part of jobs like finding plagiarism, analyzing literature, and making sure the author is who they say they are. In the past, figuring out who wrote something relied on stylometric analysis, which looked at things like word choice, sentence length, and punctuation using statistics. But the rise of deep learning models, especially transformers, has changed this job by better understanding how things relate to each other in context.\n",
        "\n",
        "The BERT model, which stands for \"Bidirectional Encoder Representations from Transformers,\" has the best success in NLP tasks right now. There are three types of BERT that we are comparing in this project for author classification:\n",
        "\n",
        "    Base BERT: Standard-sized model with 110M parameters.\n",
        "    DistilBERT: A lightweight version with 66M parameters.\n",
        "    Large BERT: A high-parameter model with 340M parameters for superior accuracy.\n"
      ],
      "metadata": {
        "id": "bah0gQOax0iB"
      },
      "id": "bah0gQOax0iB"
    },
    {
      "cell_type": "markdown",
      "id": "70126894",
      "metadata": {
        "id": "70126894"
      },
      "source": [
        "## Imports and Dataset\n"
      ]
    },
    {
      "cell_type": "markdown",
      "source": [
        "We used the Gutenberg Project dataset, focusing on main authors from the 18th century. Initially, we tried using whole books as rows but faced problems due to BERT's sequence length limit. Our final strategy was to split books into sections of up to 420 words, increasing data points per author while maintaining manageable sequence lengths."
      ],
      "metadata": {
        "id": "7oyKWUK7ygUZ"
      },
      "id": "7oyKWUK7ygUZ"
    },
    {
      "cell_type": "code",
      "execution_count": null,
      "id": "69b4b310",
      "metadata": {
        "id": "69b4b310",
        "outputId": "7a4e6770-aeb3-4afc-f66d-a9f433a2791e"
      },
      "outputs": [
        {
          "name": "stderr",
          "output_type": "stream",
          "text": [
            "/opt/homebrew/anaconda3/lib/python3.11/site-packages/pandas/core/arrays/masked.py:60: UserWarning: Pandas requires version '1.3.6' or newer of 'bottleneck' (version '1.3.5' currently installed).\n",
            "  from pandas.core import (\n"
          ]
        }
      ],
      "source": [
        "# Libraries\n",
        "import numpy as np\n",
        "import pandas as pd\n",
        "from sklearn.preprocessing import LabelEncoder\n",
        "from sklearn.metrics import accuracy_score\n",
        "import seaborn as sns\n",
        "import matplotlib.pyplot as plt\n",
        "from transformers import AutoTokenizer\n",
        "import tensorflow as tf\n",
        "import os\n",
        "import warnings\n",
        "warnings.filterwarnings('ignore')"
      ]
    },
    {
      "cell_type": "code",
      "execution_count": null,
      "id": "a30966da",
      "metadata": {
        "id": "a30966da",
        "outputId": "501daa96-78b4-4ecb-80a4-6b7d1e96c62d"
      },
      "outputs": [
        {
          "data": {
            "text/html": [
              "<div>\n",
              "<style scoped>\n",
              "    .dataframe tbody tr th:only-of-type {\n",
              "        vertical-align: middle;\n",
              "    }\n",
              "\n",
              "    .dataframe tbody tr th {\n",
              "        vertical-align: top;\n",
              "    }\n",
              "\n",
              "    .dataframe thead th {\n",
              "        text-align: right;\n",
              "    }\n",
              "</style>\n",
              "<table border=\"1\" class=\"dataframe\">\n",
              "  <thead>\n",
              "    <tr style=\"text-align: right;\">\n",
              "      <th></th>\n",
              "      <th>Unnamed: 0</th>\n",
              "      <th>gid</th>\n",
              "      <th>content</th>\n",
              "      <th>author</th>\n",
              "      <th>title</th>\n",
              "      <th>author_birth</th>\n",
              "    </tr>\n",
              "  </thead>\n",
              "  <tbody>\n",
              "    <tr>\n",
              "      <th>0</th>\n",
              "      <td>0</td>\n",
              "      <td>19</td>\n",
              "      <td>The Song of Hiawatha is based on the legends a...</td>\n",
              "      <td>John Milton</td>\n",
              "      <td>Paradise Lost</td>\n",
              "      <td>1608</td>\n",
              "    </tr>\n",
              "    <tr>\n",
              "      <th>1</th>\n",
              "      <td>1</td>\n",
              "      <td>20</td>\n",
              "      <td>Of that Forbidden Tree, whose mortal tast\\nBro...</td>\n",
              "      <td>Aesop</td>\n",
              "      <td>Aesop's Fables\\tTranslated by George Fyler Tow...</td>\n",
              "      <td>-620</td>\n",
              "    </tr>\n",
              "    <tr>\n",
              "      <th>2</th>\n",
              "      <td>2</td>\n",
              "      <td>26</td>\n",
              "      <td>Of Man's first disobedience, and the fruit\\nOf...</td>\n",
              "      <td>Thomas Hardy</td>\n",
              "      <td>Far from the Madding Crowd</td>\n",
              "      <td>1840</td>\n",
              "    </tr>\n",
              "    <tr>\n",
              "      <th>3</th>\n",
              "      <td>3</td>\n",
              "      <td>58</td>\n",
              "      <td>I, WHO erewhile the happy Garden sung\\nBy one ...</td>\n",
              "      <td>Friedrich Engels</td>\n",
              "      <td>The Communist Manifesto</td>\n",
              "      <td>1820</td>\n",
              "    </tr>\n",
              "    <tr>\n",
              "      <th>4</th>\n",
              "      <td>4</td>\n",
              "      <td>109</td>\n",
              "      <td>All I could see from where I stood\\nThe room i...</td>\n",
              "      <td>Richard McGowan</td>\n",
              "      <td>Violists</td>\n",
              "      <td>1958</td>\n",
              "    </tr>\n",
              "  </tbody>\n",
              "</table>\n",
              "</div>"
            ],
            "text/plain": [
              "   Unnamed: 0  gid                                            content  \\\n",
              "0           0   19  The Song of Hiawatha is based on the legends a...   \n",
              "1           1   20  Of that Forbidden Tree, whose mortal tast\\nBro...   \n",
              "2           2   26  Of Man's first disobedience, and the fruit\\nOf...   \n",
              "3           3   58  I, WHO erewhile the happy Garden sung\\nBy one ...   \n",
              "4           4  109  All I could see from where I stood\\nThe room i...   \n",
              "\n",
              "             author                                              title  \\\n",
              "0       John Milton                                      Paradise Lost   \n",
              "1             Aesop  Aesop's Fables\\tTranslated by George Fyler Tow...   \n",
              "2      Thomas Hardy                         Far from the Madding Crowd   \n",
              "3  Friedrich Engels                            The Communist Manifesto   \n",
              "4   Richard McGowan                                           Violists   \n",
              "\n",
              "  author_birth  \n",
              "0         1608  \n",
              "1         -620  \n",
              "2         1840  \n",
              "3         1820  \n",
              "4         1958  "
            ]
          },
          "execution_count": 2,
          "metadata": {},
          "output_type": "execute_result"
        }
      ],
      "source": [
        "# Import dataset\n",
        "data = pd.read_csv('poetry-dataset.csv')\n",
        "\n",
        "data.head()"
      ]
    },
    {
      "cell_type": "markdown",
      "id": "c60bb058",
      "metadata": {
        "id": "c60bb058"
      },
      "source": [
        "## Preprocessing:"
      ]
    },
    {
      "cell_type": "markdown",
      "source": [
        "The dataset is currently formatted with one row per book, where the content column contains the entire book's text. In earlier project versions, we experimented with splitting the data differently. When feeding the BERT models line by line, performance was poor (training accuracy ~20%). We concluded that a single line, often limited to 18 words and lacking complete sentences, did not provide enough context for the model to learn the authors' styles. Ultimately, we opted to divide the books into larger sections for better results."
      ],
      "metadata": {
        "id": "tWnenCf1xzE7"
      },
      "id": "tWnenCf1xzE7"
    },
    {
      "cell_type": "code",
      "execution_count": null,
      "id": "5e240bf9",
      "metadata": {
        "id": "5e240bf9",
        "outputId": "970b8860-a358-4644-e53f-9b3e78ae69ca"
      },
      "outputs": [
        {
          "data": {
            "text/html": [
              "<div>\n",
              "<style scoped>\n",
              "    .dataframe tbody tr th:only-of-type {\n",
              "        vertical-align: middle;\n",
              "    }\n",
              "\n",
              "    .dataframe tbody tr th {\n",
              "        vertical-align: top;\n",
              "    }\n",
              "\n",
              "    .dataframe thead th {\n",
              "        text-align: right;\n",
              "    }\n",
              "</style>\n",
              "<table border=\"1\" class=\"dataframe\">\n",
              "  <thead>\n",
              "    <tr style=\"text-align: right;\">\n",
              "      <th></th>\n",
              "      <th>author</th>\n",
              "      <th>content</th>\n",
              "    </tr>\n",
              "  </thead>\n",
              "  <tbody>\n",
              "    <tr>\n",
              "      <th>0</th>\n",
              "      <td>John Milton</td>\n",
              "      <td>The Song of Hiawatha is based on the legends a...</td>\n",
              "    </tr>\n",
              "    <tr>\n",
              "      <th>1</th>\n",
              "      <td>John Milton</td>\n",
              "      <td>u,\\n\"From the forests and the prairies,\\nFrom ...</td>\n",
              "    </tr>\n",
              "    <tr>\n",
              "      <th>2</th>\n",
              "      <td>John Milton</td>\n",
              "      <td>at rivers\\nThrough their palisades of pine-tre...</td>\n",
              "    </tr>\n",
              "    <tr>\n",
              "      <th>3</th>\n",
              "      <td>John Milton</td>\n",
              "      <td>it with figures;\\nFrom the margin of the river...</td>\n",
              "    </tr>\n",
              "    <tr>\n",
              "      <th>4</th>\n",
              "      <td>John Milton</td>\n",
              "      <td>oice majestic\\nAs the sound of far-off waters,...</td>\n",
              "    </tr>\n",
              "    <tr>\n",
              "      <th>...</th>\n",
              "      <td>...</td>\n",
              "      <td>...</td>\n",
              "    </tr>\n",
              "    <tr>\n",
              "      <th>61384</th>\n",
              "      <td>W. Warde (William Warde) Fowler</td>\n",
              "      <td>ese poems is quite different from the resentme...</td>\n",
              "    </tr>\n",
              "    <tr>\n",
              "      <th>61385</th>\n",
              "      <td>W. Warde (William Warde) Fowler</td>\n",
              "      <td>m\\nTactus aratro est;--\\nNec sapit pueri insta...</td>\n",
              "    </tr>\n",
              "    <tr>\n",
              "      <th>61386</th>\n",
              "      <td>W. Warde (William Warde) Fowler</td>\n",
              "      <td>oculis\\nLustravit aethera album, sola dura, ma...</td>\n",
              "    </tr>\n",
              "    <tr>\n",
              "      <th>61387</th>\n",
              "      <td>W. Warde (William Warde) Fowler</td>\n",
              "      <td>greater extent cast in a Greek mould.\\nThe wor...</td>\n",
              "    </tr>\n",
              "    <tr>\n",
              "      <th>61388</th>\n",
              "      <td>W. Warde (William Warde) Fowler</td>\n",
              "      <td>is mother, as he stands\\nStretching out his ti...</td>\n",
              "    </tr>\n",
              "  </tbody>\n",
              "</table>\n",
              "<p>61389 rows × 2 columns</p>\n",
              "</div>"
            ],
            "text/plain": [
              "                                author  \\\n",
              "0                          John Milton   \n",
              "1                          John Milton   \n",
              "2                          John Milton   \n",
              "3                          John Milton   \n",
              "4                          John Milton   \n",
              "...                                ...   \n",
              "61384  W. Warde (William Warde) Fowler   \n",
              "61385  W. Warde (William Warde) Fowler   \n",
              "61386  W. Warde (William Warde) Fowler   \n",
              "61387  W. Warde (William Warde) Fowler   \n",
              "61388  W. Warde (William Warde) Fowler   \n",
              "\n",
              "                                                 content  \n",
              "0      The Song of Hiawatha is based on the legends a...  \n",
              "1      u,\\n\"From the forests and the prairies,\\nFrom ...  \n",
              "2      at rivers\\nThrough their palisades of pine-tre...  \n",
              "3      it with figures;\\nFrom the margin of the river...  \n",
              "4      oice majestic\\nAs the sound of far-off waters,...  \n",
              "...                                                  ...  \n",
              "61384  ese poems is quite different from the resentme...  \n",
              "61385  m\\nTactus aratro est;--\\nNec sapit pueri insta...  \n",
              "61386  oculis\\nLustravit aethera album, sola dura, ma...  \n",
              "61387  greater extent cast in a Greek mould.\\nThe wor...  \n",
              "61388  is mother, as he stands\\nStretching out his ti...  \n",
              "\n",
              "[61389 rows x 2 columns]"
            ]
          },
          "execution_count": 3,
          "metadata": {},
          "output_type": "execute_result"
        }
      ],
      "source": [
        "# Function for splitting the book into chunks\n",
        "def split_content(row, chunk_size=2000): # chunk_size here refers to number of characters\n",
        "    content = row['content']\n",
        "    chunks = [content[i:i+chunk_size] for i in range(0, len(content), chunk_size)]\n",
        "    return pd.DataFrame({'author': [row['author']] * len(chunks), 'content': chunks})\n",
        "\n",
        "data = pd.concat(data.apply(split_content, axis=1).to_list(), ignore_index=True)\n",
        "data"
      ]
    },
    {
      "cell_type": "code",
      "execution_count": null,
      "id": "d84f03b6",
      "metadata": {
        "id": "d84f03b6",
        "outputId": "64764c8b-5e26-45c0-e56c-fe561f60736a"
      },
      "outputs": [
        {
          "name": "stdout",
          "output_type": "stream",
          "text": [
            "Author Counts:\n",
            "author\n",
            "Various                               3006\n",
            "Nathaniel Hawthorne                   1163\n",
            "James B. (James Beardsley) Hendryx     953\n",
            "4th century Smyrnaeus Quintus          834\n",
            "L. Adams (Lily Adams) Beck             828\n",
            "                                      ... \n",
            "James T. Lightwood                       1\n",
            "Charles Herbert Sylvester                1\n",
            "Sibyl Bristowe                           1\n",
            "United States. War Department            1\n",
            "Carlo Botta                              1\n",
            "Name: count, Length: 854, dtype: int64\n"
          ]
        }
      ],
      "source": [
        "# Count the occurrences of each author\n",
        "author_counts = data['author'].value_counts()\n",
        "print(\"Author Counts:\")\n",
        "print(author_counts)"
      ]
    },
    {
      "cell_type": "code",
      "execution_count": null,
      "id": "480d9693",
      "metadata": {
        "id": "480d9693",
        "outputId": "323f487a-77d3-4f18-80c2-8a874cd7fe65"
      },
      "outputs": [
        {
          "data": {
            "text/html": [
              "<div>\n",
              "<style scoped>\n",
              "    .dataframe tbody tr th:only-of-type {\n",
              "        vertical-align: middle;\n",
              "    }\n",
              "\n",
              "    .dataframe tbody tr th {\n",
              "        vertical-align: top;\n",
              "    }\n",
              "\n",
              "    .dataframe thead th {\n",
              "        text-align: right;\n",
              "    }\n",
              "</style>\n",
              "<table border=\"1\" class=\"dataframe\">\n",
              "  <thead>\n",
              "    <tr style=\"text-align: right;\">\n",
              "      <th></th>\n",
              "      <th>author</th>\n",
              "      <th>content</th>\n",
              "    </tr>\n",
              "  </thead>\n",
              "  <tbody>\n",
              "    <tr>\n",
              "      <th>3632</th>\n",
              "      <td>Henry James</td>\n",
              "      <td>Wars worse than civil on Emathian (1) plains,\\...</td>\n",
              "    </tr>\n",
              "    <tr>\n",
              "      <th>3633</th>\n",
              "      <td>Henry James</td>\n",
              "      <td>y Roman blood;\\nAdd to these ills the toils of...</td>\n",
              "    </tr>\n",
              "    <tr>\n",
              "      <th>3634</th>\n",
              "      <td>Henry James</td>\n",
              "      <td>end the spheres asunder.\\nOn themselves\\nGreat...</td>\n",
              "    </tr>\n",
              "    <tr>\n",
              "      <th>3635</th>\n",
              "      <td>Henry James</td>\n",
              "      <td>conquered Gaul the bays from pirates won,\\nTh...</td>\n",
              "    </tr>\n",
              "    <tr>\n",
              "      <th>3636</th>\n",
              "      <td>Henry James</td>\n",
              "      <td>rough Roman gates the booty of a world,\\nThe c...</td>\n",
              "    </tr>\n",
              "  </tbody>\n",
              "</table>\n",
              "</div>"
            ],
            "text/plain": [
              "           author                                            content\n",
              "3632  Henry James  Wars worse than civil on Emathian (1) plains,\\...\n",
              "3633  Henry James  y Roman blood;\\nAdd to these ills the toils of...\n",
              "3634  Henry James  end the spheres asunder.\\nOn themselves\\nGreat...\n",
              "3635  Henry James   conquered Gaul the bays from pirates won,\\nTh...\n",
              "3636  Henry James  rough Roman gates the booty of a world,\\nThe c..."
            ]
          },
          "execution_count": 5,
          "metadata": {},
          "output_type": "execute_result"
        }
      ],
      "source": [
        "# list of authors to keep\n",
        "authors = [\n",
        "    \"Nathaniel Hawthorne\",\n",
        "    \"Thomas Holmes\",\n",
        "    \"L. Adams (Lily Adams) Beck\",\n",
        "    \"Henry James\",\n",
        "    \"Henry Rider Haggard\",\n",
        "    \"4th century Smyrnaeus Quintus\",\n",
        "    \"William Shakespeare\"\n",
        "]\n",
        "\n",
        "data = data[data['author'].isin(authors)]\n",
        "data.head()"
      ]
    },
    {
      "cell_type": "code",
      "execution_count": null,
      "id": "7edbd254",
      "metadata": {
        "id": "7edbd254",
        "outputId": "c36de12f-9be0-4c18-9f8e-a3b89bbe5366"
      },
      "outputs": [
        {
          "name": "stdout",
          "output_type": "stream",
          "text": [
            "Encoded Authors:\n",
            "                              author  author_encoded\n",
            "3632                     Henry James               1\n",
            "4086   4th century Smyrnaeus Quintus               0\n",
            "8531             William Shakespeare               6\n",
            "10799                  Thomas Holmes               5\n",
            "15956            Henry Rider Haggard               2\n",
            "24012            Nathaniel Hawthorne               4\n",
            "24153     L. Adams (Lily Adams) Beck               3\n",
            "Length of Dataset:\n",
            "5899\n"
          ]
        }
      ],
      "source": [
        "\n",
        "# LabelEncoder to encode each unique author\n",
        "label_encoder = LabelEncoder()\n",
        "data['author_encoded'] = label_encoder.fit_transform(data['author'])\n",
        "\n",
        "print(\"Encoded Authors:\")\n",
        "print(data[['author', 'author_encoded']].drop_duplicates())\n",
        "\n",
        "data.head()\n",
        "print(\"Length of Dataset:\")\n",
        "print(len(data))"
      ]
    },
    {
      "cell_type": "code",
      "execution_count": null,
      "id": "8360a992",
      "metadata": {
        "id": "8360a992",
        "outputId": "412bc1dc-3bb5-4119-c65d-37c68f01347e"
      },
      "outputs": [
        {
          "name": "stdout",
          "output_type": "stream",
          "text": [
            "Test Set:\n"
          ]
        },
        {
          "data": {
            "text/html": [
              "<div>\n",
              "<style scoped>\n",
              "    .dataframe tbody tr th:only-of-type {\n",
              "        vertical-align: middle;\n",
              "    }\n",
              "\n",
              "    .dataframe tbody tr th {\n",
              "        vertical-align: top;\n",
              "    }\n",
              "\n",
              "    .dataframe thead th {\n",
              "        text-align: right;\n",
              "    }\n",
              "</style>\n",
              "<table border=\"1\" class=\"dataframe\">\n",
              "  <thead>\n",
              "    <tr style=\"text-align: right;\">\n",
              "      <th></th>\n",
              "      <th>author</th>\n",
              "      <th>content</th>\n",
              "      <th>author_encoded</th>\n",
              "    </tr>\n",
              "  </thead>\n",
              "  <tbody>\n",
              "    <tr>\n",
              "      <th>12568</th>\n",
              "      <td>William Shakespeare</td>\n",
              "      <td>est all night for\\nthinking of his unhappy fat...</td>\n",
              "      <td>6</td>\n",
              "    </tr>\n",
              "    <tr>\n",
              "      <th>25338</th>\n",
              "      <td>Nathaniel Hawthorne</td>\n",
              "      <td>Who are these two, the valley, whence his wave...</td>\n",
              "      <td>4</td>\n",
              "    </tr>\n",
              "    <tr>\n",
              "      <th>25605</th>\n",
              "      <td>Nathaniel Hawthorne</td>\n",
              "      <td>nstructors chim'd.\\nInduc'd by which agreement...</td>\n",
              "      <td>4</td>\n",
              "    </tr>\n",
              "    <tr>\n",
              "      <th>24432</th>\n",
              "      <td>L. Adams (Lily Adams) Beck</td>\n",
              "      <td>ooking for there.\\nBut when the word for the g...</td>\n",
              "      <td>3</td>\n",
              "    </tr>\n",
              "    <tr>\n",
              "      <th>12452</th>\n",
              "      <td>William Shakespeare</td>\n",
              "      <td>, but the gods deliver\\nhim from evil, so was ...</td>\n",
              "      <td>6</td>\n",
              "    </tr>\n",
              "    <tr>\n",
              "      <th>...</th>\n",
              "      <td>...</td>\n",
              "      <td>...</td>\n",
              "      <td>...</td>\n",
              "    </tr>\n",
              "    <tr>\n",
              "      <th>11376</th>\n",
              "      <td>Thomas Holmes</td>\n",
              "      <td>ure,\\nThis were enough to prove it higher and ...</td>\n",
              "      <td>5</td>\n",
              "    </tr>\n",
              "    <tr>\n",
              "      <th>4207</th>\n",
              "      <td>4th century Smyrnaeus Quintus</td>\n",
              "      <td>ire.\\n\"  Mid many in my father's service, I\\nS...</td>\n",
              "      <td>0</td>\n",
              "    </tr>\n",
              "    <tr>\n",
              "      <th>3711</th>\n",
              "      <td>Henry James</td>\n",
              "      <td>things human and the gods\\nPolluted, he by tr...</td>\n",
              "      <td>1</td>\n",
              "    </tr>\n",
              "    <tr>\n",
              "      <th>24327</th>\n",
              "      <td>L. Adams (Lily Adams) Beck</td>\n",
              "      <td>g,\\nBy cloudless starlight on he treads,\\nAnd ...</td>\n",
              "      <td>3</td>\n",
              "    </tr>\n",
              "    <tr>\n",
              "      <th>26303</th>\n",
              "      <td>Nathaniel Hawthorne</td>\n",
              "      <td>as men whose strength was spent,\\nI knew that...</td>\n",
              "      <td>4</td>\n",
              "    </tr>\n",
              "  </tbody>\n",
              "</table>\n",
              "<p>590 rows × 3 columns</p>\n",
              "</div>"
            ],
            "text/plain": [
              "                              author  \\\n",
              "12568            William Shakespeare   \n",
              "25338            Nathaniel Hawthorne   \n",
              "25605            Nathaniel Hawthorne   \n",
              "24432     L. Adams (Lily Adams) Beck   \n",
              "12452            William Shakespeare   \n",
              "...                              ...   \n",
              "11376                  Thomas Holmes   \n",
              "4207   4th century Smyrnaeus Quintus   \n",
              "3711                     Henry James   \n",
              "24327     L. Adams (Lily Adams) Beck   \n",
              "26303            Nathaniel Hawthorne   \n",
              "\n",
              "                                                 content  author_encoded  \n",
              "12568  est all night for\\nthinking of his unhappy fat...               6  \n",
              "25338  Who are these two, the valley, whence his wave...               4  \n",
              "25605  nstructors chim'd.\\nInduc'd by which agreement...               4  \n",
              "24432  ooking for there.\\nBut when the word for the g...               3  \n",
              "12452  , but the gods deliver\\nhim from evil, so was ...               6  \n",
              "...                                                  ...             ...  \n",
              "11376  ure,\\nThis were enough to prove it higher and ...               5  \n",
              "4207   ire.\\n\"  Mid many in my father's service, I\\nS...               0  \n",
              "3711    things human and the gods\\nPolluted, he by tr...               1  \n",
              "24327  g,\\nBy cloudless starlight on he treads,\\nAnd ...               3  \n",
              "26303   as men whose strength was spent,\\nI knew that...               4  \n",
              "\n",
              "[590 rows x 3 columns]"
            ]
          },
          "execution_count": 7,
          "metadata": {},
          "output_type": "execute_result"
        }
      ],
      "source": [
        "#Train, Validation & Test split\n",
        "data = data.sample(frac=1, random_state=100)\n",
        "DATA_LEN = len(data)\n",
        "SPLIT = 0.9\n",
        "train_len = round(DATA_LEN * SPLIT)\n",
        "\n",
        "# Create training set\n",
        "df = data.iloc[:train_len]\n",
        "\n",
        "# Use the second half of the split for the test set\n",
        "test_set = data.iloc[train_len:]\n",
        "print(\"Test Set:\")\n",
        "test_set"
      ]
    },
    {
      "cell_type": "markdown",
      "id": "d5f620d5",
      "metadata": {
        "id": "d5f620d5"
      },
      "source": [
        "## Tokenization:"
      ]
    },
    {
      "cell_type": "markdown",
      "source": [
        "To prepare the data for BERT models, we first examined the length of each content row to determine the required sequence length. Most rows are around 360 words, with a maximum of 420, so we chose a sequence length of 420 to retain as much data as possible.  \n",
        "\n",
        "Each BERT model's tokenizer was applied to generate word embeddings and attention masks for every row. Word embeddings begin with 101 (sequence start) and end with 102 (sequence end), with zero-padding added for rows shorter than 420 words.  \n",
        "\n",
        "The attention mask uses 1s for valid tokens (including start/end) and 0s for padding, ensuring padding is ignored during training."
      ],
      "metadata": {
        "id": "SqE2_Ihyy_dK"
      },
      "id": "SqE2_Ihyy_dK"
    },
    {
      "cell_type": "code",
      "execution_count": null,
      "id": "809a691b",
      "metadata": {
        "id": "809a691b",
        "outputId": "1feb1864-e233-4457-cea7-5b60645e92c5"
      },
      "outputs": [
        {
          "data": {
            "text/plain": [
              "<Axes: xlabel='content', ylabel='Density'>"
            ]
          },
          "execution_count": 8,
          "metadata": {},
          "output_type": "execute_result"
        },
        {
          "data": {
            "image/png": "[encoded data removed]",
            "text/plain": [
              "<Figure size 1600x1000 with 1 Axes>"
            ]
          },
          "metadata": {},
          "output_type": "display_data"
        }
      ],
      "source": [
        "# Determine the sequence length (i.e. number of words) in each row\n",
        "seqlen = df['content'].apply(lambda x: len(x.split()))\n",
        "\n",
        "plt.figure(figsize=(16, 10))\n",
        "sns.distplot(seqlen)"
      ]
    },
    {
      "cell_type": "code",
      "execution_count": null,
      "id": "5dfa00ba",
      "metadata": {
        "id": "5dfa00ba"
      },
      "outputs": [],
      "source": [
        "SEQ_LEN = 420\n",
        "\n",
        "# Import tokenizer for each of the BERT models\n",
        "distil_tokenizer = AutoTokenizer.from_pretrained('distilbert-base-uncased')\n",
        "base_tokenizer = AutoTokenizer.from_pretrained('bert-base-uncased')\n",
        "large_tokenizer = AutoTokenizer.from_pretrained('bert-large-uncased')\n",
        "\n",
        "# Initialise empty arrays for word embeddings/tokens\n",
        "distil_Xids = np.zeros((len(df), SEQ_LEN))\n",
        "base_Xids = np.zeros((len(df), SEQ_LEN))\n",
        "large_Xids = np.zeros((len(df), SEQ_LEN))\n",
        "\n",
        "# Inistialise empty arrays for attention mask\n",
        "distil_Xmask = np.zeros((len(df), SEQ_LEN))\n",
        "base_Xmask = np.zeros((len(df), SEQ_LEN))\n",
        "large_Xmask = np.zeros((len(df), SEQ_LEN))\n",
        "\n",
        "# Loop through the rows and tokenize\n",
        "## distilBERT\n",
        "for i, sequence in enumerate(df['content']):\n",
        "    distil_tokens = distil_tokenizer.encode_plus(sequence, max_length=SEQ_LEN,\n",
        "                              truncation = True, padding='max_length',\n",
        "                              add_special_tokens=True, return_token_type_ids=False,\n",
        "                              return_attention_mask=True, return_tensors='tf')\n",
        "    distil_Xids[i, :], distil_Xmask[i, :] = distil_tokens['input_ids'], distil_tokens['attention_mask']\n",
        "\n",
        "## BERT-Base\n",
        "for i, sequence in enumerate(df['content']):\n",
        "    base_tokens = base_tokenizer.encode_plus(sequence, max_length=SEQ_LEN,\n",
        "                              truncation = True, padding='max_length',\n",
        "                              add_special_tokens=True, return_token_type_ids=False,\n",
        "                              return_attention_mask=True, return_tensors='tf')\n",
        "    base_Xids[i, :], base_Xmask[i, :] = base_tokens['input_ids'], base_tokens['attention_mask']\n",
        "\n",
        "## BERT-Large\n",
        "for i, sequence in enumerate(df['content']):\n",
        "    large_tokens = large_tokenizer.encode_plus(sequence, max_length=SEQ_LEN,\n",
        "                              truncation = True, padding='max_length',\n",
        "                              add_special_tokens=True, return_token_type_ids=False,\n",
        "                              return_attention_mask=True, return_tensors='tf')\n",
        "    large_Xids[i, :], large_Xmask[i, :] = large_tokens['input_ids'], large_tokens['attention_mask']"
      ]
    },
    {
      "cell_type": "code",
      "execution_count": null,
      "id": "f583c181",
      "metadata": {
        "id": "f583c181",
        "outputId": "46d95703-285c-493d-de16-31bd7f280499"
      },
      "outputs": [
        {
          "data": {
            "text/plain": [
              "array([[  101., 23142.,  2033., ...,  2014.,  1012.,   102.],\n",
              "       [  101.,  4777., 20934., ...,  1040.,  2032.,   102.],\n",
              "       [  101.,  1051.,  2107., ...,  2081.,  3437.,   102.],\n",
              "       ...,\n",
              "       [  101.,  2026., 10433., ...,  2024.,  1037.,   102.],\n",
              "       [  101.,  2601., 27541., ...,  4912.,  2017.,   102.],\n",
              "       [  101.,  1010.,  1996., ...,  2149.,  1010.,   102.]])"
            ]
          },
          "execution_count": 10,
          "metadata": {},
          "output_type": "execute_result"
        }
      ],
      "source": [
        "distil_Xids"
      ]
    },
    {
      "cell_type": "code",
      "execution_count": null,
      "id": "3572b87c",
      "metadata": {
        "id": "3572b87c",
        "outputId": "c86cc698-3b23-447f-d50e-7ac2bf06b7ac"
      },
      "outputs": [
        {
          "data": {
            "text/plain": [
              "array([[1., 1., 1., ..., 1., 1., 1.],\n",
              "       [1., 1., 1., ..., 1., 1., 1.],\n",
              "       [1., 1., 1., ..., 1., 1., 1.],\n",
              "       ...,\n",
              "       [1., 1., 1., ..., 1., 1., 1.],\n",
              "       [1., 1., 1., ..., 1., 1., 1.],\n",
              "       [1., 1., 1., ..., 1., 1., 1.]])"
            ]
          },
          "execution_count": 11,
          "metadata": {},
          "output_type": "execute_result"
        }
      ],
      "source": [
        "distil_Xmask"
      ]
    },
    {
      "cell_type": "code",
      "execution_count": null,
      "id": "1d9cb595",
      "metadata": {
        "id": "1d9cb595",
        "outputId": "aa756f76-1950-454c-bf8b-216f37159fed"
      },
      "outputs": [
        {
          "data": {
            "text/plain": [
              "array([[0., 0., 0., ..., 1., 0., 0.],\n",
              "       [0., 0., 0., ..., 1., 0., 0.],\n",
              "       [0., 0., 0., ..., 0., 1., 0.],\n",
              "       ...,\n",
              "       [0., 0., 0., ..., 0., 0., 1.],\n",
              "       [0., 0., 1., ..., 0., 0., 0.],\n",
              "       [0., 0., 0., ..., 1., 0., 0.]])"
            ]
          },
          "execution_count": 12,
          "metadata": {},
          "output_type": "execute_result"
        }
      ],
      "source": [
        "arr = df['author_encoded'].values\n",
        "\n",
        "labels = np.zeros((arr.size, arr.max()+1)) # +1 since it starts from 0\n",
        "\n",
        "labels[np.arange(arr.size), arr] = 1\n",
        "labels"
      ]
    },
    {
      "cell_type": "code",
      "execution_count": null,
      "id": "f65fc00c",
      "metadata": {
        "id": "f65fc00c",
        "outputId": "7d679543-8bb3-4476-df04-b0f2a0f06820"
      },
      "outputs": [
        {
          "name": "stdout",
          "output_type": "stream",
          "text": [
            "(<tf.Tensor: shape=(420,), dtype=float64, numpy=\n",
            "array([  101., 23142.,  2033.,  2039.,  1037.,  2978.,  1012.,  2092.,\n",
            "        1010.,  1045.,  2134.,  1005.,  1056., 29049.,  2019.,  3239.,\n",
            "        1010.,  1998.,  2002., 24691.,  2098.,  1998.,  2045.,  2016.,\n",
            "        2938.,  1025.,  1998.,  1045.,  5470., 23402.,  2094.,  1045.,\n",
            "        2657.,  2014.,  6682.,  1011.,  1011.,  2021.,  1045.,  2876.,\n",
            "        1005.,  1056.,  2074.,  8415.,  2000.,  2008.,  1012.,  1998.,\n",
            "        2672.,  2016.,  2347.,  1005.,  1056.,  2061.,  4408.,  1010.,\n",
            "        2295.,  2016.,  5720.,  1999.,  1037., 12831., 10178.,  1010.,\n",
            "        1998.,  1045.,  2701.,  2026.,  2159.,  2412.,  2061.,  4389.,\n",
            "        1010.,  2664.,  1045.,  2387.,  2014.,  2412.,  2061.,  5810.,\n",
            "        1024.,  2014.,  6203.,  2210.,  9939.,  4451.,  1010.,  2014.,\n",
            "       10059.,  1010., 11737., 21132.,  5413.,  1010.,  2014.,  2677.,\n",
            "        2066.,  1037., 13007.,  4667.,  3123.,  1010.,  1998.,  1996.,\n",
            "       25203., 21944.,  2306.,  1025.,  2014.,  2159.,  2066.,  1996.,\n",
            "        8766.,  1024.,  2107.,  1037.,  4678.,  2210.,  3035.,  1011.,\n",
            "        1011., 13109., 11236.,  7585.,  1012.,  1998.,  2012.,  2197.,\n",
            "        2043.,  2016.,  3123.,  2000.,  2175.,  1010.,  1996.,  2422.,\n",
            "        2001.,  1037.,  2210., 11737.,  1010.,  1998.,  1045., 20510.,\n",
            "        2000., 21392.,  2361.,  1010.,  1998.,  2061.,  1045.,  2387.,\n",
            "        2014.,  1010., 19415.,  1998., 11754.,  1010.,  1998.,  2016.,\n",
            "        4782.,  2032.,  1998.,  4782.,  2032.,  1010.,  1998.,  2821.,\n",
            "        2129.,  1045.,  4372., 13469.,  2094.,  1998.,  4372., 13469.,\n",
            "        2094.,  2032.,   999.,  2061.,  2043.,  2016.,  2001.,  2908.,\n",
            "        1045.,  2056.,  1999.,  2738.,  1037.,  2852., 14644.,  2100.,\n",
            "        2376.,  2000.,  2032.,  1997.,  1996.,  4500.,  2793.,  1024.,\n",
            "        1000.,  6289.,  1010.,  2767.,  1010.,  2129.,  2017.,  2442.,\n",
            "        2128.,  5558.,  6610.,   999.,  2021.,  2033.,  1010.,  1045.,\n",
            "        1005.,  1049.,  1037.,  2518.,  1997., 14436.,  1012.,  2005.,\n",
            "        2033.,  2196.,  5974.,  1996., 13670.,  1010.,  1996., 16959.,\n",
            "        1997.,  1037.,  2450.,  1005.,  1055.,  3610.,  1012.,  1000.,\n",
            "        2059.,  1045.,  3030.,  1010.,  2005.,  8840.,   999.,  2016.,\n",
            "        2001.,  2045.,  1010.,  1998.,  1037.,  2307.,  2422., 14707.,\n",
            "        1999.,  2014.,  2159.,  1012.,  1998.,  2033.,   999.,  1045.,\n",
            "        2071.,  2069.,  6237.,  1010.,  1045.,  2001.,  2579.,  2061.,\n",
            "        2011.,  4474.,  1010.,  2043.,  5251.,  2016.,  6260.,  2014.,\n",
            "        2132.,  1024.,  1000.,  1035.,  2089.,  1045.,  3610.,  2017.,\n",
            "        1010.,  6722.,  1029.,  1035.,  1000.,  2016.,  2056.,  1012.,\n",
            "        2059.,  2016.,  4782.,  2026.,  5255.,  2970.,  1010.,  2007.,\n",
            "        2014.,  2677.,  2066.,  1037., 25738.,  6546.,  1010.,  1998.,\n",
            "        1045., 16082.,  2000.,  1996.,  4344.,  1011., 10247.,  1010.,\n",
            "        1998.,  1045.,  2910.,  1005.,  1056.,  2130.,  1996.,  2373.,\n",
            "        2000.,  2360.,  1024.,  1000.,  2643., 19994.,  2017.,  1010.,\n",
            "        6203.,   999.,  1000.,  1998.,  1045.,  2371.,  2107.,  1037.,\n",
            "        9062.,  7697., 14412.,  2140.,  2006.,  2026.,  2007.,  6850.,\n",
            "        5048.,  1010.,  1998., 18243.,  2078.,  2009.,   999.,  1045.,\n",
            "        2481.,  1005.,  1056.,  3713.,  1012.,  1998.,  2061.,  2016.,\n",
            "        2253., 13718.,  2185.,  1010.,  1998.,  1045.,  2113.,  2008.,\n",
            "        2026.,  2159.,  2020.,  4954.,  1012.,  6289.,  1010.,  2025.,\n",
            "        2000.,  2026.,  5996.,  2154.,  2097.,  1045.,  5293.,  1010.,\n",
            "        5293.,   999.,  2064.,  2017.,  4687.,  2085.,  1045.,  2572.,\n",
            "        5637.,  1029.,  2643., 19994.,  2014.,  1010.,  2008.,  2210.,\n",
            "       13109., 11236.,  7585.,   999.,  2027.,  2741.,  2032.,  2067.,\n",
            "        2000.,  2014.,  1012.,   102.])>, <tf.Tensor: shape=(420,), dtype=float64, numpy=\n",
            "array([1., 1., 1., 1., 1., 1., 1., 1., 1., 1., 1., 1., 1., 1., 1., 1., 1.,\n",
            "       1., 1., 1., 1., 1., 1., 1., 1., 1., 1., 1., 1., 1., 1., 1., 1., 1.,\n",
            "       1., 1., 1., 1., 1., 1., 1., 1., 1., 1., 1., 1., 1., 1., 1., 1., 1.,\n",
            "       1., 1., 1., 1., 1., 1., 1., 1., 1., 1., 1., 1., 1., 1., 1., 1., 1.,\n",
            "       1., 1., 1., 1., 1., 1., 1., 1., 1., 1., 1., 1., 1., 1., 1., 1., 1.,\n",
            "       1., 1., 1., 1., 1., 1., 1., 1., 1., 1., 1., 1., 1., 1., 1., 1., 1.,\n",
            "       1., 1., 1., 1., 1., 1., 1., 1., 1., 1., 1., 1., 1., 1., 1., 1., 1.,\n",
            "       1., 1., 1., 1., 1., 1., 1., 1., 1., 1., 1., 1., 1., 1., 1., 1., 1.,\n",
            "       1., 1., 1., 1., 1., 1., 1., 1., 1., 1., 1., 1., 1., 1., 1., 1., 1.,\n",
            "       1., 1., 1., 1., 1., 1., 1., 1., 1., 1., 1., 1., 1., 1., 1., 1., 1.,\n",
            "       1., 1., 1., 1., 1., 1., 1., 1., 1., 1., 1., 1., 1., 1., 1., 1., 1.,\n",
            "       1., 1., 1., 1., 1., 1., 1., 1., 1., 1., 1., 1., 1., 1., 1., 1., 1.,\n",
            "       1., 1., 1., 1., 1., 1., 1., 1., 1., 1., 1., 1., 1., 1., 1., 1., 1.,\n",
            "       1., 1., 1., 1., 1., 1., 1., 1., 1., 1., 1., 1., 1., 1., 1., 1., 1.,\n",
            "       1., 1., 1., 1., 1., 1., 1., 1., 1., 1., 1., 1., 1., 1., 1., 1., 1.,\n",
            "       1., 1., 1., 1., 1., 1., 1., 1., 1., 1., 1., 1., 1., 1., 1., 1., 1.,\n",
            "       1., 1., 1., 1., 1., 1., 1., 1., 1., 1., 1., 1., 1., 1., 1., 1., 1.,\n",
            "       1., 1., 1., 1., 1., 1., 1., 1., 1., 1., 1., 1., 1., 1., 1., 1., 1.,\n",
            "       1., 1., 1., 1., 1., 1., 1., 1., 1., 1., 1., 1., 1., 1., 1., 1., 1.,\n",
            "       1., 1., 1., 1., 1., 1., 1., 1., 1., 1., 1., 1., 1., 1., 1., 1., 1.,\n",
            "       1., 1., 1., 1., 1., 1., 1., 1., 1., 1., 1., 1., 1., 1., 1., 1., 1.,\n",
            "       1., 1., 1., 1., 1., 1., 1., 1., 1., 1., 1., 1., 1., 1., 1., 1., 1.,\n",
            "       1., 1., 1., 1., 1., 1., 1., 1., 1., 1., 1., 1., 1., 1., 1., 1., 1.,\n",
            "       1., 1., 1., 1., 1., 1., 1., 1., 1., 1., 1., 1., 1., 1., 1., 1., 1.,\n",
            "       1., 1., 1., 1., 1., 1., 1., 1., 1., 1., 1., 1.])>, <tf.Tensor: shape=(7,), dtype=float64, numpy=array([0., 0., 0., 0., 1., 0., 0.])>)\n"
          ]
        }
      ],
      "source": [
        "distil_dataset = tf.data.Dataset.from_tensor_slices((distil_Xids, distil_Xmask, labels))\n",
        "\n",
        "base_dataset = tf.data.Dataset.from_tensor_slices((base_Xids, base_Xmask, labels))\n",
        "\n",
        "large_dataset = tf.data.Dataset.from_tensor_slices((large_Xids, large_Xmask, labels))\n",
        "\n",
        "for i in distil_dataset.take(1):\n",
        "    print(i)"
      ]
    },
    {
      "cell_type": "code",
      "execution_count": null,
      "id": "7a304a46",
      "metadata": {
        "id": "7a304a46",
        "outputId": "6d63db88-3b31-43f0-824d-533039f89a4a"
      },
      "outputs": [
        {
          "name": "stdout",
          "output_type": "stream",
          "text": [
            "({'input_ids': <tf.Tensor: shape=(420,), dtype=float64, numpy=\n",
            "array([  101., 23142.,  2033.,  2039.,  1037.,  2978.,  1012.,  2092.,\n",
            "        1010.,  1045.,  2134.,  1005.,  1056., 29049.,  2019.,  3239.,\n",
            "        1010.,  1998.,  2002., 24691.,  2098.,  1998.,  2045.,  2016.,\n",
            "        2938.,  1025.,  1998.,  1045.,  5470., 23402.,  2094.,  1045.,\n",
            "        2657.,  2014.,  6682.,  1011.,  1011.,  2021.,  1045.,  2876.,\n",
            "        1005.,  1056.,  2074.,  8415.,  2000.,  2008.,  1012.,  1998.,\n",
            "        2672.,  2016.,  2347.,  1005.,  1056.,  2061.,  4408.,  1010.,\n",
            "        2295.,  2016.,  5720.,  1999.,  1037., 12831., 10178.,  1010.,\n",
            "        1998.,  1045.,  2701.,  2026.,  2159.,  2412.,  2061.,  4389.,\n",
            "        1010.,  2664.,  1045.,  2387.,  2014.,  2412.,  2061.,  5810.,\n",
            "        1024.,  2014.,  6203.,  2210.,  9939.,  4451.,  1010.,  2014.,\n",
            "       10059.,  1010., 11737., 21132.,  5413.,  1010.,  2014.,  2677.,\n",
            "        2066.,  1037., 13007.,  4667.,  3123.,  1010.,  1998.,  1996.,\n",
            "       25203., 21944.,  2306.,  1025.,  2014.,  2159.,  2066.,  1996.,\n",
            "        8766.,  1024.,  2107.,  1037.,  4678.,  2210.,  3035.,  1011.,\n",
            "        1011., 13109., 11236.,  7585.,  1012.,  1998.,  2012.,  2197.,\n",
            "        2043.,  2016.,  3123.,  2000.,  2175.,  1010.,  1996.,  2422.,\n",
            "        2001.,  1037.,  2210., 11737.,  1010.,  1998.,  1045., 20510.,\n",
            "        2000., 21392.,  2361.,  1010.,  1998.,  2061.,  1045.,  2387.,\n",
            "        2014.,  1010., 19415.,  1998., 11754.,  1010.,  1998.,  2016.,\n",
            "        4782.,  2032.,  1998.,  4782.,  2032.,  1010.,  1998.,  2821.,\n",
            "        2129.,  1045.,  4372., 13469.,  2094.,  1998.,  4372., 13469.,\n",
            "        2094.,  2032.,   999.,  2061.,  2043.,  2016.,  2001.,  2908.,\n",
            "        1045.,  2056.,  1999.,  2738.,  1037.,  2852., 14644.,  2100.,\n",
            "        2376.,  2000.,  2032.,  1997.,  1996.,  4500.,  2793.,  1024.,\n",
            "        1000.,  6289.,  1010.,  2767.,  1010.,  2129.,  2017.,  2442.,\n",
            "        2128.,  5558.,  6610.,   999.,  2021.,  2033.,  1010.,  1045.,\n",
            "        1005.,  1049.,  1037.,  2518.,  1997., 14436.,  1012.,  2005.,\n",
            "        2033.,  2196.,  5974.,  1996., 13670.,  1010.,  1996., 16959.,\n",
            "        1997.,  1037.,  2450.,  1005.,  1055.,  3610.,  1012.,  1000.,\n",
            "        2059.,  1045.,  3030.,  1010.,  2005.,  8840.,   999.,  2016.,\n",
            "        2001.,  2045.,  1010.,  1998.,  1037.,  2307.,  2422., 14707.,\n",
            "        1999.,  2014.,  2159.,  1012.,  1998.,  2033.,   999.,  1045.,\n",
            "        2071.,  2069.,  6237.,  1010.,  1045.,  2001.,  2579.,  2061.,\n",
            "        2011.,  4474.,  1010.,  2043.,  5251.,  2016.,  6260.,  2014.,\n",
            "        2132.,  1024.,  1000.,  1035.,  2089.,  1045.,  3610.,  2017.,\n",
            "        1010.,  6722.,  1029.,  1035.,  1000.,  2016.,  2056.,  1012.,\n",
            "        2059.,  2016.,  4782.,  2026.,  5255.,  2970.,  1010.,  2007.,\n",
            "        2014.,  2677.,  2066.,  1037., 25738.,  6546.,  1010.,  1998.,\n",
            "        1045., 16082.,  2000.,  1996.,  4344.,  1011., 10247.,  1010.,\n",
            "        1998.,  1045.,  2910.,  1005.,  1056.,  2130.,  1996.,  2373.,\n",
            "        2000.,  2360.,  1024.,  1000.,  2643., 19994.,  2017.,  1010.,\n",
            "        6203.,   999.,  1000.,  1998.,  1045.,  2371.,  2107.,  1037.,\n",
            "        9062.,  7697., 14412.,  2140.,  2006.,  2026.,  2007.,  6850.,\n",
            "        5048.,  1010.,  1998., 18243.,  2078.,  2009.,   999.,  1045.,\n",
            "        2481.,  1005.,  1056.,  3713.,  1012.,  1998.,  2061.,  2016.,\n",
            "        2253., 13718.,  2185.,  1010.,  1998.,  1045.,  2113.,  2008.,\n",
            "        2026.,  2159.,  2020.,  4954.,  1012.,  6289.,  1010.,  2025.,\n",
            "        2000.,  2026.,  5996.,  2154.,  2097.,  1045.,  5293.,  1010.,\n",
            "        5293.,   999.,  2064.,  2017.,  4687.,  2085.,  1045.,  2572.,\n",
            "        5637.,  1029.,  2643., 19994.,  2014.,  1010.,  2008.,  2210.,\n",
            "       13109., 11236.,  7585.,   999.,  2027.,  2741.,  2032.,  2067.,\n",
            "        2000.,  2014.,  1012.,   102.])>, 'attention_mask': <tf.Tensor: shape=(420,), dtype=float64, numpy=\n",
            "array([1., 1., 1., 1., 1., 1., 1., 1., 1., 1., 1., 1., 1., 1., 1., 1., 1.,\n",
            "       1., 1., 1., 1., 1., 1., 1., 1., 1., 1., 1., 1., 1., 1., 1., 1., 1.,\n",
            "       1., 1., 1., 1., 1., 1., 1., 1., 1., 1., 1., 1., 1., 1., 1., 1., 1.,\n",
            "       1., 1., 1., 1., 1., 1., 1., 1., 1., 1., 1., 1., 1., 1., 1., 1., 1.,\n",
            "       1., 1., 1., 1., 1., 1., 1., 1., 1., 1., 1., 1., 1., 1., 1., 1., 1.,\n",
            "       1., 1., 1., 1., 1., 1., 1., 1., 1., 1., 1., 1., 1., 1., 1., 1., 1.,\n",
            "       1., 1., 1., 1., 1., 1., 1., 1., 1., 1., 1., 1., 1., 1., 1., 1., 1.,\n",
            "       1., 1., 1., 1., 1., 1., 1., 1., 1., 1., 1., 1., 1., 1., 1., 1., 1.,\n",
            "       1., 1., 1., 1., 1., 1., 1., 1., 1., 1., 1., 1., 1., 1., 1., 1., 1.,\n",
            "       1., 1., 1., 1., 1., 1., 1., 1., 1., 1., 1., 1., 1., 1., 1., 1., 1.,\n",
            "       1., 1., 1., 1., 1., 1., 1., 1., 1., 1., 1., 1., 1., 1., 1., 1., 1.,\n",
            "       1., 1., 1., 1., 1., 1., 1., 1., 1., 1., 1., 1., 1., 1., 1., 1., 1.,\n",
            "       1., 1., 1., 1., 1., 1., 1., 1., 1., 1., 1., 1., 1., 1., 1., 1., 1.,\n",
            "       1., 1., 1., 1., 1., 1., 1., 1., 1., 1., 1., 1., 1., 1., 1., 1., 1.,\n",
            "       1., 1., 1., 1., 1., 1., 1., 1., 1., 1., 1., 1., 1., 1., 1., 1., 1.,\n",
            "       1., 1., 1., 1., 1., 1., 1., 1., 1., 1., 1., 1., 1., 1., 1., 1., 1.,\n",
            "       1., 1., 1., 1., 1., 1., 1., 1., 1., 1., 1., 1., 1., 1., 1., 1., 1.,\n",
            "       1., 1., 1., 1., 1., 1., 1., 1., 1., 1., 1., 1., 1., 1., 1., 1., 1.,\n",
            "       1., 1., 1., 1., 1., 1., 1., 1., 1., 1., 1., 1., 1., 1., 1., 1., 1.,\n",
            "       1., 1., 1., 1., 1., 1., 1., 1., 1., 1., 1., 1., 1., 1., 1., 1., 1.,\n",
            "       1., 1., 1., 1., 1., 1., 1., 1., 1., 1., 1., 1., 1., 1., 1., 1., 1.,\n",
            "       1., 1., 1., 1., 1., 1., 1., 1., 1., 1., 1., 1., 1., 1., 1., 1., 1.,\n",
            "       1., 1., 1., 1., 1., 1., 1., 1., 1., 1., 1., 1., 1., 1., 1., 1., 1.,\n",
            "       1., 1., 1., 1., 1., 1., 1., 1., 1., 1., 1., 1., 1., 1., 1., 1., 1.,\n",
            "       1., 1., 1., 1., 1., 1., 1., 1., 1., 1., 1., 1.])>}, <tf.Tensor: shape=(7,), dtype=float64, numpy=array([0., 0., 0., 0., 1., 0., 0.])>)\n"
          ]
        }
      ],
      "source": [
        "def map_func(input_ids, masks, labels):\n",
        "    return {'input_ids': input_ids, 'attention_mask': masks}, labels\n",
        "\n",
        "distil_dataset = distil_dataset.map(map_func)\n",
        "\n",
        "for i in distil_dataset.take(1):\n",
        "    print(i)"
      ]
    },
    {
      "cell_type": "code",
      "execution_count": null,
      "id": "0f9bfabf",
      "metadata": {
        "id": "0f9bfabf",
        "outputId": "ad6a804d-a14a-4103-bf3d-9df6c0b3a1c4"
      },
      "outputs": [
        {
          "name": "stdout",
          "output_type": "stream",
          "text": [
            "166\n"
          ]
        },
        {
          "data": {
            "text/plain": [
              "166"
            ]
          },
          "execution_count": 15,
          "metadata": {},
          "output_type": "execute_result"
        }
      ],
      "source": [
        "# First shuffle the dataset& set the seed\n",
        "tf.random.set_seed(42)\n",
        "distil_dataset = distil_dataset.shuffle(10000).batch(32)\n",
        "\n",
        "# dataset length\n",
        "DS_LEN = len(list(distil_dataset))\n",
        "\n",
        "SPLIT = 0.89\n",
        "\n",
        "# Assign train and validation sets for each model\n",
        "distil_train = distil_dataset.take(round(DS_LEN*SPLIT))\n",
        "distil_val = distil_dataset.skip(round(DS_LEN*SPLIT))\n",
        "\n",
        "# delete dataset objects to save space\n",
        "del distil_dataset\n",
        "\n",
        "# double check the data sets have the same length and we didn't miss out any rows\n",
        "print(DS_LEN)\n",
        "len(distil_train)+len(distil_val)"
      ]
    },
    {
      "cell_type": "markdown",
      "id": "3e87a165",
      "metadata": {
        "id": "3e87a165"
      },
      "source": [
        "## Model training\n"
      ]
    },
    {
      "cell_type": "markdown",
      "source": [
        "For each model, we fine-tuned a classifier head using ReLU activation in dense layers and a softmax activation in the output layer for author class prediction. Training used a batch size of 30, the Adam optimizer, and cross-entropy loss, with accuracy as the evaluation metric. Dropout and BatchNormalization layers had the most positive impact during fine-tuning. Models were trained for around 30 epochs, often with early stopping, and training times varied based on model architecture size."
      ],
      "metadata": {
        "id": "A_oWFbitxQfZ"
      },
      "id": "A_oWFbitxQfZ"
    },
    {
      "cell_type": "markdown",
      "id": "15267eda",
      "metadata": {
        "id": "15267eda"
      },
      "source": [
        "\n",
        "\n",
        "### distilBERT fitting"
      ]
    },
    {
      "cell_type": "code",
      "execution_count": null,
      "id": "e590bc40",
      "metadata": {
        "colab": {
          "referenced_widgets": [
            "e2d2c3a17ccc462eafb17557475815f2"
          ]
        },
        "execution": {
          "iopub.execute_input": "2024-12-17T19:38:40.047213Z",
          "iopub.status.busy": "2024-12-17T19:38:40.046918Z",
          "iopub.status.idle": "2024-12-17T20:18:07.155023Z",
          "shell.execute_reply": "2024-12-17T20:18:07.154138Z",
          "shell.execute_reply.started": "2024-12-17T19:38:40.047191Z"
        },
        "id": "e590bc40",
        "outputId": "5e8e6b39-a7bd-4748-a5d1-785e5002164e"
      },
      "outputs": [
        {
          "data": {
            "application/vnd.jupyter.widget-view+json": {
              "model_id": "e2d2c3a17ccc462eafb17557475815f2",
              "version_major": 2,
              "version_minor": 0
            },
            "text/plain": [
              "model.safetensors:   0%|          | 0.00/268M [00:00<?, ?B/s]"
            ]
          },
          "metadata": {},
          "output_type": "display_data"
        },
        {
          "name": "stderr",
          "output_type": "stream",
          "text": [
            "Some weights of the PyTorch model were not used when initializing the TF 2.0 model TFDistilBertModel: ['vocab_layer_norm.bias', 'vocab_transform.weight', 'vocab_projector.bias', 'vocab_layer_norm.weight', 'vocab_transform.bias']\n",
            "- This IS expected if you are initializing TFDistilBertModel from a PyTorch model trained on another task or with another architecture (e.g. initializing a TFBertForSequenceClassification model from a BertForPreTraining model).\n",
            "- This IS NOT expected if you are initializing TFDistilBertModel from a PyTorch model that you expect to be exactly identical (e.g. initializing a TFBertForSequenceClassification model from a BertForSequenceClassification model).\n",
            "All the weights of TFDistilBertModel were initialized from the PyTorch model.\n",
            "If your task is similar to the task the model of the checkpoint was trained on, you can already use TFDistilBertModel for predictions without further training.\n"
          ]
        },
        {
          "name": "stdout",
          "output_type": "stream",
          "text": [
            "Epoch 1/50\n",
            "148/148 [==============================] - 60s 345ms/step - loss: 0.7890 - accuracy: 0.7308 - val_loss: 1.6702 - val_accuracy: 0.4171\n",
            "Epoch 2/50\n",
            "148/148 [==============================] - 49s 332ms/step - loss: 0.4813 - accuracy: 0.8304 - val_loss: 0.4466 - val_accuracy: 0.8394\n",
            "Epoch 3/50\n",
            "148/148 [==============================] - 49s 332ms/step - loss: 0.4340 - accuracy: 0.8526 - val_loss: 0.2862 - val_accuracy: 0.9075\n",
            "Epoch 4/50\n",
            "148/148 [==============================] - 49s 332ms/step - loss: 0.3805 - accuracy: 0.8682 - val_loss: 0.1901 - val_accuracy: 0.9407\n",
            "Epoch 5/50\n",
            "148/148 [==============================] - 49s 332ms/step - loss: 0.3458 - accuracy: 0.8805 - val_loss: 0.1551 - val_accuracy: 0.9494\n",
            "Epoch 6/50\n",
            "148/148 [==============================] - 49s 330ms/step - loss: 0.3148 - accuracy: 0.8910 - val_loss: 0.1686 - val_accuracy: 0.9354\n",
            "Epoch 7/50\n",
            "148/148 [==============================] - 49s 330ms/step - loss: 0.2801 - accuracy: 0.9020 - val_loss: 0.1554 - val_accuracy: 0.9476\n",
            "Epoch 8/50\n",
            "148/148 [==============================] - 49s 332ms/step - loss: 0.2653 - accuracy: 0.9060 - val_loss: 0.1488 - val_accuracy: 0.9459\n",
            "Epoch 9/50\n",
            "148/148 [==============================] - 49s 330ms/step - loss: 0.2830 - accuracy: 0.9043 - val_loss: 0.1630 - val_accuracy: 0.9389\n",
            "Epoch 10/50\n",
            "148/148 [==============================] - 49s 331ms/step - loss: 0.2475 - accuracy: 0.9149 - val_loss: 0.1268 - val_accuracy: 0.9546\n",
            "Epoch 11/50\n",
            "148/148 [==============================] - 49s 331ms/step - loss: 0.2304 - accuracy: 0.9166 - val_loss: 0.0976 - val_accuracy: 0.9756\n",
            "Epoch 12/50\n",
            "148/148 [==============================] - 49s 330ms/step - loss: 0.2482 - accuracy: 0.9153 - val_loss: 0.1280 - val_accuracy: 0.9529\n",
            "Epoch 13/50\n",
            "148/148 [==============================] - 49s 331ms/step - loss: 0.2253 - accuracy: 0.9225 - val_loss: 0.0812 - val_accuracy: 0.9791\n",
            "Epoch 14/50\n",
            "148/148 [==============================] - 49s 330ms/step - loss: 0.2011 - accuracy: 0.9299 - val_loss: 0.0905 - val_accuracy: 0.9703\n",
            "Epoch 15/50\n",
            "148/148 [==============================] - 49s 331ms/step - loss: 0.2012 - accuracy: 0.9322 - val_loss: 0.0629 - val_accuracy: 0.9860\n",
            "Epoch 16/50\n",
            "148/148 [==============================] - 49s 330ms/step - loss: 0.2071 - accuracy: 0.9316 - val_loss: 0.0715 - val_accuracy: 0.9773\n",
            "Epoch 17/50\n",
            "148/148 [==============================] - 49s 330ms/step - loss: 0.1883 - accuracy: 0.9358 - val_loss: 0.0697 - val_accuracy: 0.9773\n",
            "Epoch 18/50\n",
            "148/148 [==============================] - 49s 330ms/step - loss: 0.1826 - accuracy: 0.9358 - val_loss: 0.0639 - val_accuracy: 0.9808\n",
            "Epoch 19/50\n",
            "148/148 [==============================] - 49s 331ms/step - loss: 0.1765 - accuracy: 0.9413 - val_loss: 0.0496 - val_accuracy: 0.9860\n",
            "Epoch 20/50\n",
            "148/148 [==============================] - 49s 330ms/step - loss: 0.1553 - accuracy: 0.9449 - val_loss: 0.0746 - val_accuracy: 0.9756\n",
            "Epoch 21/50\n",
            "148/148 [==============================] - 49s 331ms/step - loss: 0.1732 - accuracy: 0.9411 - val_loss: 0.0300 - val_accuracy: 0.9895\n",
            "Epoch 22/50\n",
            "148/148 [==============================] - 49s 330ms/step - loss: 0.1751 - accuracy: 0.9405 - val_loss: 0.0654 - val_accuracy: 0.9756\n",
            "Epoch 23/50\n",
            "148/148 [==============================] - 49s 330ms/step - loss: 0.1778 - accuracy: 0.9373 - val_loss: 0.0425 - val_accuracy: 0.9913\n",
            "Epoch 24/50\n",
            "148/148 [==============================] - 49s 330ms/step - loss: 0.1512 - accuracy: 0.9493 - val_loss: 0.0402 - val_accuracy: 0.9913\n",
            "Epoch 25/50\n",
            "148/148 [==============================] - 49s 330ms/step - loss: 0.1497 - accuracy: 0.9516 - val_loss: 0.0532 - val_accuracy: 0.9791\n",
            "Epoch 26/50\n",
            "148/148 [==============================] - 49s 330ms/step - loss: 0.1550 - accuracy: 0.9493 - val_loss: 0.0311 - val_accuracy: 0.9948\n",
            "Epoch 27/50\n",
            "148/148 [==============================] - 49s 330ms/step - loss: 0.1531 - accuracy: 0.9489 - val_loss: 0.0338 - val_accuracy: 0.9948\n",
            "Epoch 28/50\n",
            "148/148 [==============================] - 49s 330ms/step - loss: 0.1414 - accuracy: 0.9533 - val_loss: 0.0380 - val_accuracy: 0.9860\n",
            "Epoch 29/50\n",
            "148/148 [==============================] - 49s 330ms/step - loss: 0.1303 - accuracy: 0.9540 - val_loss: 0.0444 - val_accuracy: 0.9843\n",
            "Epoch 30/50\n",
            "148/148 [==============================] - 49s 330ms/step - loss: 0.1499 - accuracy: 0.9521 - val_loss: 0.0409 - val_accuracy: 0.9895\n",
            "Epoch 31/50\n",
            "148/148 [==============================] - 49s 331ms/step - loss: 0.1402 - accuracy: 0.9481 - val_loss: 0.0247 - val_accuracy: 0.9930\n",
            "Epoch 32/50\n",
            "148/148 [==============================] - 49s 331ms/step - loss: 0.1111 - accuracy: 0.9628 - val_loss: 0.0115 - val_accuracy: 1.0000\n",
            "Epoch 33/50\n",
            "148/148 [==============================] - 49s 331ms/step - loss: 0.1243 - accuracy: 0.9590 - val_loss: 0.0095 - val_accuracy: 0.9983\n",
            "Epoch 34/50\n",
            "148/148 [==============================] - 49s 330ms/step - loss: 0.1324 - accuracy: 0.9563 - val_loss: 0.0200 - val_accuracy: 0.9948\n",
            "Epoch 35/50\n",
            "148/148 [==============================] - 49s 330ms/step - loss: 0.1294 - accuracy: 0.9544 - val_loss: 0.0352 - val_accuracy: 0.9860\n",
            "Epoch 36/50\n",
            "148/148 [==============================] - 49s 330ms/step - loss: 0.1417 - accuracy: 0.9521 - val_loss: 0.0289 - val_accuracy: 0.9913\n",
            "Epoch 37/50\n",
            "148/148 [==============================] - 49s 330ms/step - loss: 0.1320 - accuracy: 0.9571 - val_loss: 0.0136 - val_accuracy: 0.9965\n",
            "Epoch 38/50\n",
            "148/148 [==============================] - 49s 330ms/step - loss: 0.1173 - accuracy: 0.9597 - val_loss: 0.0177 - val_accuracy: 0.9948\n",
            "Epoch 39/50\n",
            "148/148 [==============================] - 49s 330ms/step - loss: 0.1101 - accuracy: 0.9635 - val_loss: 0.0184 - val_accuracy: 0.9930\n",
            "Epoch 40/50\n",
            "148/148 [==============================] - 49s 330ms/step - loss: 0.1188 - accuracy: 0.9569 - val_loss: 0.0204 - val_accuracy: 0.9930\n",
            "Epoch 41/50\n",
            "148/148 [==============================] - 49s 329ms/step - loss: 0.1295 - accuracy: 0.9550 - val_loss: 0.0162 - val_accuracy: 0.9930\n",
            "Epoch 42/50\n",
            "148/148 [==============================] - 49s 330ms/step - loss: 0.1112 - accuracy: 0.9622 - val_loss: 0.0169 - val_accuracy: 0.9965\n",
            "Epoch 43/50\n",
            "148/148 [==============================] - 49s 330ms/step - loss: 0.1214 - accuracy: 0.9580 - val_loss: 0.0358 - val_accuracy: 0.9895\n",
            "Epoch 44/50\n",
            "148/148 [==============================] - 49s 330ms/step - loss: 0.1048 - accuracy: 0.9633 - val_loss: 0.0144 - val_accuracy: 0.9965\n",
            "Epoch 45/50\n",
            "148/148 [==============================] - 49s 330ms/step - loss: 0.1164 - accuracy: 0.9616 - val_loss: 0.0125 - val_accuracy: 0.9983\n",
            "Epoch 46/50\n",
            "148/148 [==============================] - 49s 330ms/step - loss: 0.1259 - accuracy: 0.9601 - val_loss: 0.0123 - val_accuracy: 0.9965\n",
            "Epoch 47/50\n",
            "148/148 [==============================] - 49s 330ms/step - loss: 0.1015 - accuracy: 0.9662 - val_loss: 0.0086 - val_accuracy: 0.9983\n",
            "Epoch 48/50\n",
            "148/148 [==============================] - 49s 332ms/step - loss: 0.1075 - accuracy: 0.9635 - val_loss: 0.0238 - val_accuracy: 0.9913\n"
          ]
        },
        {
          "data": {
            "text/plain": [
              "<Axes: title={'center': 'Accuracy'}>"
            ]
          },
          "execution_count": 35,
          "metadata": {},
          "output_type": "execute_result"
        },
        {
          "data": {
            "image/png": "[encoded data removed]",
            "text/plain": [
              "<Figure size 640x480 with 1 Axes>"
            ]
          },
          "metadata": {},
          "output_type": "display_data"
        },
        {
          "data": {
            "image/png": "[encoded data removed]",
            "text/plain": [
              "<Figure size 640x480 with 1 Axes>"
            ]
          },
          "metadata": {},
          "output_type": "display_data"
        }
      ],
      "source": [
        "# Load pre-trained DistilBERT model\n",
        "from transformers import TFAutoModel\n",
        "distilbert_base = TFAutoModel.from_pretrained('distilbert-base-uncased')\n",
        "\n",
        "# Initialize random seed for reproducibility\n",
        "tf.random.set_seed(42)\n",
        "\n",
        "# Define DistilBERT input layers\n",
        "distil_tokens = tf.keras.layers.Input(shape=(SEQ_LEN,), name='input_ids', dtype='int32')\n",
        "distil_mask = tf.keras.layers.Input(shape=(SEQ_LEN,), name='attention_mask', dtype='int32')\n",
        "\n",
        "# Generate DistilBERT embeddings\n",
        "distil_embeddings = distilbert_base(distil_tokens, attention_mask=distil_mask)[0]\n",
        "\n",
        "# Build DistilBERT classification head with progressive dimension reduction\n",
        "distil_hidden = tf.keras.layers.GlobalMaxPool1D()(distil_embeddings)\n",
        "distil_hidden = tf.keras.layers.BatchNormalization()(distil_hidden)\n",
        "distil_hidden = tf.keras.layers.Dense(128, activation='relu')(distil_hidden)\n",
        "distil_hidden = tf.keras.layers.Dropout(0.1)(distil_hidden)\n",
        "distil_hidden = tf.keras.layers.BatchNormalization()(distil_hidden)\n",
        "distil_hidden = tf.keras.layers.Dense(64, activation='relu')(distil_hidden)\n",
        "distil_hidden = tf.keras.layers.BatchNormalization()(distil_hidden)\n",
        "distil_hidden = tf.keras.layers.Dense(32, activation='relu')(distil_hidden)\n",
        "distil_predictions = tf.keras.layers.Dense(7, activation='softmax', name='outputs')(distil_hidden)\n",
        "\n",
        "# Construct full DistilBERT model architecture\n",
        "distilbert_model = tf.keras.Model(inputs=[distil_tokens, distil_mask], outputs=distil_predictions)\n",
        "distilbert_model.layers[2].trainable = False  # Freeze DistilBERT weights\n",
        "\n",
        "# Configure DistilBERT training parameters\n",
        "distil_optimizer = tf.keras.optimizers.Adam(0.0001)\n",
        "distil_loss = tf.keras.losses.CategoricalCrossentropy()\n",
        "distil_accuracy = tf.keras.metrics.CategoricalAccuracy('accuracy')\n",
        "\n",
        "# Initialize DistilBERT with training configuration\n",
        "distilbert_model.compile(optimizer=distil_optimizer, loss=distil_loss, metrics=[distil_accuracy])\n",
        "\n",
        "# Setup early stopping callback for training\n",
        "from tensorflow.keras.callbacks import EarlyStopping\n",
        "distil_stopping = EarlyStopping(\n",
        "    min_delta=0.001,  # Minimum improvement threshold\n",
        "    patience=15,      # Epochs to wait before stopping\n",
        "    restore_best_weights=True,\n",
        ")\n",
        "\n",
        "# Train the DistilBERT model\n",
        "distil_history = distilbert_model.fit(\n",
        "    distil_train,\n",
        "    validation_data=distil_val,\n",
        "    batch_size=30,\n",
        "    callbacks=[distil_stopping],\n",
        "    epochs=50\n",
        ")\n",
        "\n",
        "# Visualize DistilBERT training metrics\n",
        "distil_results = pd.DataFrame(distil_history.history)\n",
        "distil_results.loc[:, ['loss', 'val_loss']].plot(title=\"DistilBERT Cross-entropy\")\n",
        "distil_results.loc[:, ['accuracy', 'val_accuracy']].plot(title=\"DistilBERT Accuracy\")"
      ]
    },
    {
      "cell_type": "code",
      "execution_count": null,
      "id": "64e9043c",
      "metadata": {
        "execution": {
          "iopub.execute_input": "2024-12-17T20:18:07.156469Z",
          "iopub.status.busy": "2024-12-17T20:18:07.156196Z",
          "iopub.status.idle": "2024-12-17T20:18:07.208281Z",
          "shell.execute_reply": "2024-12-17T20:18:07.207409Z",
          "shell.execute_reply.started": "2024-12-17T20:18:07.156446Z"
        },
        "id": "64e9043c",
        "outputId": "bbb346b1-0488-4105-b9c8-00780448846c"
      },
      "outputs": [
        {
          "name": "stdout",
          "output_type": "stream",
          "text": [
            "Model: \"model\"\n",
            "__________________________________________________________________________________________________\n",
            " Layer (type)                Output Shape                 Param #   Connected to                  \n",
            "==================================================================================================\n",
            " input_ids (InputLayer)      [(None, 420)]                0         []                            \n",
            "                                                                                                  \n",
            " attention_mask (InputLayer  [(None, 420)]                0         []                            \n",
            " )                                                                                                \n",
            "                                                                                                  \n",
            " tf_distil_bert_model (TFDi  TFBaseModelOutput(last_hid   6636288   ['input_ids[0][0]',           \n",
            " stilBertModel)              den_state=(None, 420, 768)   0          'attention_mask[0][0]']      \n",
            "                             , hidden_states=None, atte                                           \n",
            "                             ntions=None)                                                         \n",
            "                                                                                                  \n",
            " global_max_pooling1d (Glob  (None, 768)                  0         ['tf_distil_bert_model[0][0]']\n",
            " alMaxPooling1D)                                                                                  \n",
            "                                                                                                  \n",
            " batch_normalization (Batch  (None, 768)                  3072      ['global_max_pooling1d[0][0]']\n",
            " Normalization)                                                                                   \n",
            "                                                                                                  \n",
            " dense (Dense)               (None, 128)                  98432     ['batch_normalization[0][0]'] \n",
            "                                                                                                  \n",
            " dropout_19 (Dropout)        (None, 128)                  0         ['dense[0][0]']               \n",
            "                                                                                                  \n",
            " batch_normalization_1 (Bat  (None, 128)                  512       ['dropout_19[0][0]']          \n",
            " chNormalization)                                                                                 \n",
            "                                                                                                  \n",
            " dense_1 (Dense)             (None, 64)                   8256      ['batch_normalization_1[0][0]'\n",
            "                                                                    ]                             \n",
            "                                                                                                  \n",
            " batch_normalization_2 (Bat  (None, 64)                   256       ['dense_1[0][0]']             \n",
            " chNormalization)                                                                                 \n",
            "                                                                                                  \n",
            " dense_2 (Dense)             (None, 32)                   2080      ['batch_normalization_2[0][0]'\n",
            "                                                                    ]                             \n",
            "                                                                                                  \n",
            " outputs (Dense)             (None, 7)                    231       ['dense_2[0][0]']             \n",
            "                                                                                                  \n",
            "==================================================================================================\n",
            "Total params: 66475719 (253.58 MB)\n",
            "Trainable params: 110919 (433.28 KB)\n",
            "Non-trainable params: 66364800 (253.16 MB)\n",
            "__________________________________________________________________________________________________\n"
          ]
        }
      ],
      "source": [
        "distil_model.summary()"
      ]
    },
    {
      "cell_type": "markdown",
      "id": "8da368e0",
      "metadata": {
        "id": "8da368e0"
      },
      "source": [
        "### Base BERT fitting\n"
      ]
    },
    {
      "cell_type": "code",
      "execution_count": null,
      "id": "22d01780",
      "metadata": {
        "_kg_hide-output": true,
        "execution": {
          "iopub.execute_input": "2024-12-18T04:21:05.536674Z",
          "iopub.status.busy": "2024-12-18T04:21:05.535683Z",
          "iopub.status.idle": "2024-12-18T04:21:05.580973Z",
          "shell.execute_reply": "2024-12-18T04:21:05.579791Z",
          "shell.execute_reply.started": "2024-12-18T04:21:05.536629Z"
        },
        "id": "22d01780"
      },
      "outputs": [],
      "source": [
        "\n",
        "# Delete distilBERT datasets to make sure the base BERT model doesn't use those\n",
        "del distil_train\n",
        "del distil_val\n",
        "\n",
        "# Apply mapping function to structure the dataset\n",
        "base_dataset = base_dataset.map(map_func)\n",
        "\n",
        "# First shuffle the dataset& set the seed\n",
        "tf.random.set_seed(42)\n",
        "base_dataset = base_dataset.shuffle(10000).batch(32)\n",
        "\n",
        "# Assign train and validation sets for each model\n",
        "base_train = base_dataset.take(round(DS_LEN*SPLIT))\n",
        "base_val = base_dataset.skip(round(DS_LEN*SPLIT))\n",
        "\n",
        "# delete dataset objects to save space\n",
        "del base_dataset\n",
        "\n"
      ]
    },
    {
      "cell_type": "code",
      "execution_count": null,
      "id": "a07bf21e",
      "metadata": {
        "colab": {
          "referenced_widgets": [
            "e00d0ad295754222bb13c31c15a8200d"
          ]
        },
        "execution": {
          "iopub.execute_input": "2024-12-17T20:18:07.260891Z",
          "iopub.status.busy": "2024-12-17T20:18:07.260536Z",
          "iopub.status.idle": "2024-12-17T20:52:13.616736Z",
          "shell.execute_reply": "2024-12-17T20:52:13.615958Z",
          "shell.execute_reply.started": "2024-12-17T20:18:07.260861Z"
        },
        "id": "a07bf21e",
        "outputId": "892faca3-eaec-4dbd-fb80-d01f6cede365"
      },
      "outputs": [
        {
          "data": {
            "application/vnd.jupyter.widget-view+json": {
              "model_id": "e00d0ad295754222bb13c31c15a8200d",
              "version_major": 2,
              "version_minor": 0
            },
            "text/plain": [
              "model.safetensors:   0%|          | 0.00/440M [00:00<?, ?B/s]"
            ]
          },
          "metadata": {},
          "output_type": "display_data"
        },
        {
          "name": "stderr",
          "output_type": "stream",
          "text": [
            "Some weights of the PyTorch model were not used when initializing the TF 2.0 model TFBertModel: ['cls.predictions.transform.LayerNorm.bias', 'cls.seq_relationship.bias', 'cls.predictions.transform.dense.weight', 'cls.predictions.transform.dense.bias', 'cls.predictions.bias', 'cls.predictions.transform.LayerNorm.weight', 'cls.seq_relationship.weight']\n",
            "- This IS expected if you are initializing TFBertModel from a PyTorch model trained on another task or with another architecture (e.g. initializing a TFBertForSequenceClassification model from a BertForPreTraining model).\n",
            "- This IS NOT expected if you are initializing TFBertModel from a PyTorch model that you expect to be exactly identical (e.g. initializing a TFBertForSequenceClassification model from a BertForSequenceClassification model).\n",
            "All the weights of TFBertModel were initialized from the PyTorch model.\n",
            "If your task is similar to the task the model of the checkpoint was trained on, you can already use TFBertModel for predictions without further training.\n"
          ]
        },
        {
          "name": "stdout",
          "output_type": "stream",
          "text": [
            "Epoch 1/20\n",
            "148/148 [==============================] - 117s 701ms/step - loss: 1.2433 - accuracy: 0.5638 - val_loss: 1.5572 - val_accuracy: 0.4223\n",
            "Epoch 2/20\n",
            "148/148 [==============================] - 101s 683ms/step - loss: 0.7497 - accuracy: 0.7544 - val_loss: 0.5936 - val_accuracy: 0.7923\n",
            "Epoch 3/20\n",
            "148/148 [==============================] - 101s 682ms/step - loss: 0.5743 - accuracy: 0.8110 - val_loss: 0.4235 - val_accuracy: 0.8517\n",
            "Epoch 4/20\n",
            "148/148 [==============================] - 101s 683ms/step - loss: 0.4893 - accuracy: 0.8326 - val_loss: 0.2733 - val_accuracy: 0.9058\n",
            "Epoch 5/20\n",
            "148/148 [==============================] - 101s 684ms/step - loss: 0.4497 - accuracy: 0.8418 - val_loss: 0.2791 - val_accuracy: 0.9040\n",
            "Epoch 6/20\n",
            "148/148 [==============================] - 101s 684ms/step - loss: 0.4119 - accuracy: 0.8619 - val_loss: 0.2435 - val_accuracy: 0.9215\n",
            "Epoch 7/20\n",
            "148/148 [==============================] - 101s 683ms/step - loss: 0.3738 - accuracy: 0.8727 - val_loss: 0.1641 - val_accuracy: 0.9442\n",
            "Epoch 8/20\n",
            "148/148 [==============================] - 101s 683ms/step - loss: 0.3637 - accuracy: 0.8756 - val_loss: 0.1722 - val_accuracy: 0.9476\n",
            "Epoch 9/20\n",
            "148/148 [==============================] - 101s 683ms/step - loss: 0.3340 - accuracy: 0.8830 - val_loss: 0.1675 - val_accuracy: 0.9407\n",
            "Epoch 10/20\n",
            "148/148 [==============================] - 101s 683ms/step - loss: 0.3168 - accuracy: 0.8934 - val_loss: 0.1217 - val_accuracy: 0.9599\n",
            "Epoch 11/20\n",
            "148/148 [==============================] - 101s 683ms/step - loss: 0.2961 - accuracy: 0.8978 - val_loss: 0.1313 - val_accuracy: 0.9599\n",
            "Epoch 12/20\n",
            "148/148 [==============================] - 101s 683ms/step - loss: 0.2846 - accuracy: 0.9024 - val_loss: 0.1416 - val_accuracy: 0.9476\n",
            "Epoch 13/20\n",
            "148/148 [==============================] - 101s 683ms/step - loss: 0.2809 - accuracy: 0.9048 - val_loss: 0.1335 - val_accuracy: 0.9529\n",
            "Epoch 14/20\n",
            "148/148 [==============================] - 101s 683ms/step - loss: 0.2731 - accuracy: 0.9062 - val_loss: 0.1079 - val_accuracy: 0.9616\n",
            "Epoch 15/20\n",
            "148/148 [==============================] - 101s 683ms/step - loss: 0.2566 - accuracy: 0.9128 - val_loss: 0.0875 - val_accuracy: 0.9703\n",
            "Epoch 16/20\n",
            "148/148 [==============================] - 101s 683ms/step - loss: 0.2471 - accuracy: 0.9153 - val_loss: 0.1109 - val_accuracy: 0.9599\n",
            "Epoch 17/20\n",
            "148/148 [==============================] - 101s 683ms/step - loss: 0.2497 - accuracy: 0.9092 - val_loss: 0.0619 - val_accuracy: 0.9773\n",
            "Epoch 18/20\n",
            "148/148 [==============================] - 101s 683ms/step - loss: 0.2494 - accuracy: 0.9132 - val_loss: 0.0762 - val_accuracy: 0.9773\n",
            "Epoch 19/20\n",
            "148/148 [==============================] - 101s 683ms/step - loss: 0.2251 - accuracy: 0.9253 - val_loss: 0.0734 - val_accuracy: 0.9756\n",
            "Epoch 20/20\n",
            "148/148 [==============================] - 101s 683ms/step - loss: 0.2152 - accuracy: 0.9227 - val_loss: 0.0738 - val_accuracy: 0.9738\n"
          ]
        },
        {
          "data": {
            "text/plain": [
              "<Axes: title={'center': 'Accuracy'}>"
            ]
          },
          "execution_count": 38,
          "metadata": {},
          "output_type": "execute_result"
        },
        {
          "data": {
            "image/png": "[encoded data removed]",
            "text/plain": [
              "<Figure size 640x480 with 1 Axes>"
            ]
          },
          "metadata": {},
          "output_type": "display_data"
        },
        {
          "data": {
            "image/png": "[encoded data removed]",
            "text/plain": [
              "<Figure size 640x480 with 1 Axes>"
            ]
          },
          "metadata": {},
          "output_type": "display_data"
        }
      ],
      "source": [
        "# Load pre-trained BERT base model\n",
        "from transformers import TFAutoModel\n",
        "bert_base = TFAutoModel.from_pretrained('bert-base-uncased')\n",
        "\n",
        "# Initialize random seed for reproducibility\n",
        "tf.random.set_seed(42)\n",
        "\n",
        "# Define BERT input layers\n",
        "bert_tokens = tf.keras.layers.Input(shape=(SEQ_LEN,), name='input_ids', dtype='int32')\n",
        "bert_mask = tf.keras.layers.Input(shape=(SEQ_LEN,), name='attention_mask', dtype='int32')\n",
        "\n",
        "# Generate BERT contextual embeddings\n",
        "bert_embeddings = bert_base(bert_tokens, attention_mask=bert_mask)[0]\n",
        "\n",
        "# Build BERT classification head with multi-layer architecture\n",
        "bert_hidden = tf.keras.layers.GlobalMaxPool1D()(bert_embeddings)\n",
        "bert_hidden = tf.keras.layers.BatchNormalization()(bert_hidden)\n",
        "bert_hidden = tf.keras.layers.Dense(200, activation='relu')(bert_hidden)\n",
        "bert_hidden = tf.keras.layers.Dropout(0.1)(bert_hidden)\n",
        "bert_hidden = tf.keras.layers.Dense(70, activation='relu')(bert_hidden)\n",
        "bert_hidden = tf.keras.layers.BatchNormalization()(bert_hidden)\n",
        "bert_hidden = tf.keras.layers.Dropout(0.1)(bert_hidden)\n",
        "bert_hidden = tf.keras.layers.Dense(30, activation='relu')(bert_hidden)\n",
        "bert_hidden = tf.keras.layers.BatchNormalization()(bert_hidden)\n",
        "bert_hidden = tf.keras.layers.Dense(30, activation='relu')(bert_hidden)  # Additional layer for training stability\n",
        "bert_predictions = tf.keras.layers.Dense(7, activation='softmax', name='outputs')(bert_hidden)\n",
        "\n",
        "# Construct full BERT model architecture\n",
        "bert_model = tf.keras.Model(inputs=[bert_tokens, bert_mask], outputs=bert_predictions)\n",
        "bert_model.layers[2].trainable = False  # Freeze BERT base weights\n",
        "\n",
        "# Configure BERT training parameters\n",
        "bert_optimizer = tf.keras.optimizers.Adam(0.00005)\n",
        "bert_loss = tf.keras.losses.CategoricalCrossentropy()\n",
        "bert_accuracy = tf.keras.metrics.CategoricalAccuracy('accuracy')\n",
        "\n",
        "# Initialize BERT with training configuration\n",
        "bert_model.compile(optimizer=bert_optimizer, loss=bert_loss, metrics=[bert_accuracy])\n",
        "\n",
        "# Train the BERT model\n",
        "bert_history = bert_model.fit(\n",
        "    base_train,\n",
        "    validation_data=base_val,\n",
        "    batch_size=30,\n",
        "    epochs=50\n",
        ")\n",
        "\n",
        "# Visualize BERT training metrics\n",
        "bert_results = pd.DataFrame(bert_history.history)\n",
        "bert_results.loc[:, ['loss', 'val_loss']].plot(title=\"BERT Base Cross-entropy\")\n",
        "bert_results.loc[:, ['accuracy', 'val_accuracy']].plot(title=\"BERT Base Accuracy\")"
      ]
    },
    {
      "cell_type": "code",
      "execution_count": null,
      "id": "7eb32097",
      "metadata": {
        "execution": {
          "iopub.execute_input": "2024-12-17T20:52:13.617969Z",
          "iopub.status.busy": "2024-12-17T20:52:13.617691Z",
          "iopub.status.idle": "2024-12-17T20:52:13.674096Z",
          "shell.execute_reply": "2024-12-17T20:52:13.673304Z",
          "shell.execute_reply.started": "2024-12-17T20:52:13.617915Z"
        },
        "id": "7eb32097",
        "outputId": "b506f41c-1114-46b1-a8d2-8e1139d3fd72"
      },
      "outputs": [
        {
          "name": "stdout",
          "output_type": "stream",
          "text": [
            "Model: \"model_1\"\n",
            "__________________________________________________________________________________________________\n",
            " Layer (type)                Output Shape                 Param #   Connected to                  \n",
            "==================================================================================================\n",
            " input_ids (InputLayer)      [(None, 420)]                0         []                            \n",
            "                                                                                                  \n",
            " attention_mask (InputLayer  [(None, 420)]                0         []                            \n",
            " )                                                                                                \n",
            "                                                                                                  \n",
            " tf_bert_model (TFBertModel  TFBaseModelOutputWithPooli   1094822   ['input_ids[0][0]',           \n",
            " )                           ngAndCrossAttentions(last_   40         'attention_mask[0][0]']      \n",
            "                             hidden_state=(None, 420, 7                                           \n",
            "                             68),                                                                 \n",
            "                              pooler_output=(None, 768)                                           \n",
            "                             , past_key_values=None, hi                                           \n",
            "                             dden_states=None, attentio                                           \n",
            "                             ns=None, cross_attentions=                                           \n",
            "                             None)                                                                \n",
            "                                                                                                  \n",
            " global_max_pooling1d_1 (Gl  (None, 768)                  0         ['tf_bert_model[0][0]']       \n",
            " obalMaxPooling1D)                                                                                \n",
            "                                                                                                  \n",
            " batch_normalization_3 (Bat  (None, 768)                  3072      ['global_max_pooling1d_1[0][0]\n",
            " chNormalization)                                                   ']                            \n",
            "                                                                                                  \n",
            " dense_3 (Dense)             (None, 200)                  153800    ['batch_normalization_3[0][0]'\n",
            "                                                                    ]                             \n",
            "                                                                                                  \n",
            " dropout_57 (Dropout)        (None, 200)                  0         ['dense_3[0][0]']             \n",
            "                                                                                                  \n",
            " dense_4 (Dense)             (None, 70)                   14070     ['dropout_57[0][0]']          \n",
            "                                                                                                  \n",
            " batch_normalization_4 (Bat  (None, 70)                   280       ['dense_4[0][0]']             \n",
            " chNormalization)                                                                                 \n",
            "                                                                                                  \n",
            " dropout_58 (Dropout)        (None, 70)                   0         ['batch_normalization_4[0][0]'\n",
            "                                                                    ]                             \n",
            "                                                                                                  \n",
            " dense_5 (Dense)             (None, 30)                   2130      ['dropout_58[0][0]']          \n",
            "                                                                                                  \n",
            " batch_normalization_5 (Bat  (None, 30)                   120       ['dense_5[0][0]']             \n",
            " chNormalization)                                                                                 \n",
            "                                                                                                  \n",
            " dense_6 (Dense)             (None, 30)                   930       ['batch_normalization_5[0][0]'\n",
            "                                                                    ]                             \n",
            "                                                                                                  \n",
            " outputs (Dense)             (None, 7)                    217       ['dense_6[0][0]']             \n",
            "                                                                                                  \n",
            "==================================================================================================\n",
            "Total params: 109656859 (418.31 MB)\n",
            "Trainable params: 172883 (675.32 KB)\n",
            "Non-trainable params: 109483976 (417.65 MB)\n",
            "__________________________________________________________________________________________________\n"
          ]
        }
      ],
      "source": [
        "# Display model summary\n",
        "base_model.summary()"
      ]
    },
    {
      "cell_type": "markdown",
      "id": "43fe5151",
      "metadata": {
        "id": "43fe5151"
      },
      "source": [
        "### Large BERT fitting"
      ]
    },
    {
      "cell_type": "code",
      "source": [
        "del base_train\n",
        "del base_val\n",
        "\n",
        "# Apply mapping function to structure the dataset\n",
        "large_dataset = large_dataset.map(map_func)\n",
        "\n",
        "# First shuffle the dataset& set the seed\n",
        "tf.random.set_seed(42)\n",
        "large_dataset = large_dataset.shuffle(10000).batch(32)\n",
        "\n",
        "# Assign train and validation sets for each model\n",
        "large_train = large_dataset.take(round(DS_LEN*SPLIT))\n",
        "large_val = large_dataset.skip(round(DS_LEN*SPLIT))\n",
        "\n",
        "# delete dataset objects to save space\n",
        "del large_dataset\n",
        "\n",
        "# double check the data sets have the same length and we didn't miss out any rows\n",
        "print(DS_LEN)\n",
        "len(large_train)+len(large_val)"
      ],
      "metadata": {
        "id": "MzYkdVdFrdPK"
      },
      "id": "MzYkdVdFrdPK",
      "execution_count": null,
      "outputs": []
    },
    {
      "cell_type": "code",
      "execution_count": null,
      "id": "be47c9bf",
      "metadata": {
        "colab": {
          "referenced_widgets": [
            "ccba56e7357846ca863e66109bf71555"
          ]
        },
        "execution": {
          "iopub.execute_input": "2024-12-17T20:52:13.734042Z",
          "iopub.status.busy": "2024-12-17T20:52:13.733760Z",
          "iopub.status.idle": "2024-12-18T01:07:21.689395Z",
          "shell.execute_reply": "2024-12-18T01:07:21.688536Z",
          "shell.execute_reply.started": "2024-12-17T20:52:13.734014Z"
        },
        "id": "be47c9bf",
        "outputId": "cdf30cd2-9872-4f77-8421-c2c2c804d9f4"
      },
      "outputs": [
        {
          "data": {
            "application/vnd.jupyter.widget-view+json": {
              "model_id": "ccba56e7357846ca863e66109bf71555",
              "version_major": 2,
              "version_minor": 0
            },
            "text/plain": [
              "model.safetensors:   0%|          | 0.00/1.34G [00:00<?, ?B/s]"
            ]
          },
          "metadata": {},
          "output_type": "display_data"
        },
        {
          "name": "stderr",
          "output_type": "stream",
          "text": [
            "Some weights of the PyTorch model were not used when initializing the TF 2.0 model TFBertModel: ['cls.seq_relationship.bias', 'cls.predictions.transform.dense.weight', 'cls.predictions.transform.dense.bias', 'cls.predictions.transform.LayerNorm.weight', 'cls.seq_relationship.weight', 'cls.predictions.bias', 'cls.predictions.transform.LayerNorm.bias']\n",
            "- This IS expected if you are initializing TFBertModel from a PyTorch model trained on another task or with another architecture (e.g. initializing a TFBertForSequenceClassification model from a BertForPreTraining model).\n",
            "- This IS NOT expected if you are initializing TFBertModel from a PyTorch model that you expect to be exactly identical (e.g. initializing a TFBertForSequenceClassification model from a BertForSequenceClassification model).\n",
            "All the weights of TFBertModel were initialized from the PyTorch model.\n",
            "If your task is similar to the task the model of the checkpoint was trained on, you can already use TFBertModel for predictions without further training.\n"
          ]
        },
        {
          "name": "stdout",
          "output_type": "stream",
          "text": [
            "Epoch 1/50\n",
            "148/148 [==============================] - 337s 2s/step - loss: 0.8596 - accuracy: 0.6907 - val_loss: 1.4111 - val_accuracy: 0.5724\n",
            "Epoch 2/50\n",
            "148/148 [==============================] - 305s 2s/step - loss: 0.5558 - accuracy: 0.8125 - val_loss: 0.5186 - val_accuracy: 0.8237\n",
            "Epoch 3/50\n",
            "148/148 [==============================] - 305s 2s/step - loss: 0.4912 - accuracy: 0.8309 - val_loss: 0.4397 - val_accuracy: 0.8517\n",
            "Epoch 4/50\n",
            "148/148 [==============================] - 305s 2s/step - loss: 0.4365 - accuracy: 0.8524 - val_loss: 0.5984 - val_accuracy: 0.8045\n",
            "Epoch 5/50\n",
            "148/148 [==============================] - 306s 2s/step - loss: 0.4237 - accuracy: 0.8577 - val_loss: 0.3073 - val_accuracy: 0.8813\n",
            "Epoch 6/50\n",
            "148/148 [==============================] - 305s 2s/step - loss: 0.3851 - accuracy: 0.8670 - val_loss: 0.4810 - val_accuracy: 0.8342\n",
            "Epoch 7/50\n",
            "148/148 [==============================] - 305s 2s/step - loss: 0.3568 - accuracy: 0.8780 - val_loss: 0.3118 - val_accuracy: 0.8918\n",
            "Epoch 8/50\n",
            "148/148 [==============================] - 305s 2s/step - loss: 0.3433 - accuracy: 0.8845 - val_loss: 0.3711 - val_accuracy: 0.8639\n",
            "Epoch 9/50\n",
            "148/148 [==============================] - 305s 2s/step - loss: 0.3437 - accuracy: 0.8832 - val_loss: 0.5316 - val_accuracy: 0.8045\n",
            "Epoch 10/50\n",
            "148/148 [==============================] - 306s 2s/step - loss: 0.3105 - accuracy: 0.8908 - val_loss: 0.2277 - val_accuracy: 0.9058\n",
            "Epoch 11/50\n",
            "148/148 [==============================] - 305s 2s/step - loss: 0.3150 - accuracy: 0.8940 - val_loss: 0.2677 - val_accuracy: 0.8988\n",
            "Epoch 12/50\n",
            "148/148 [==============================] - 305s 2s/step - loss: 0.2988 - accuracy: 0.8972 - val_loss: 0.2723 - val_accuracy: 0.9075\n",
            "Epoch 13/50\n",
            "148/148 [==============================] - 305s 2s/step - loss: 0.2687 - accuracy: 0.9050 - val_loss: 0.3589 - val_accuracy: 0.8709\n",
            "Epoch 14/50\n",
            "148/148 [==============================] - 305s 2s/step - loss: 0.2720 - accuracy: 0.9060 - val_loss: 0.3048 - val_accuracy: 0.9023\n",
            "Epoch 15/50\n",
            "148/148 [==============================] - 305s 2s/step - loss: 0.2600 - accuracy: 0.9109 - val_loss: 0.3803 - val_accuracy: 0.8569\n",
            "Epoch 16/50\n",
            "148/148 [==============================] - 305s 2s/step - loss: 0.2645 - accuracy: 0.9145 - val_loss: 0.3789 - val_accuracy: 0.8656\n",
            "Epoch 17/50\n",
            "148/148 [==============================] - 305s 2s/step - loss: 0.2387 - accuracy: 0.9170 - val_loss: 0.2332 - val_accuracy: 0.9058\n",
            "Epoch 18/50\n",
            "148/148 [==============================] - 305s 2s/step - loss: 0.2497 - accuracy: 0.9149 - val_loss: 0.3147 - val_accuracy: 0.8988\n",
            "Epoch 19/50\n",
            "148/148 [==============================] - 305s 2s/step - loss: 0.2462 - accuracy: 0.9134 - val_loss: 0.2268 - val_accuracy: 0.9389\n",
            "Epoch 20/50\n",
            "148/148 [==============================] - 306s 2s/step - loss: 0.2411 - accuracy: 0.9141 - val_loss: 0.1194 - val_accuracy: 0.9651\n",
            "Epoch 21/50\n",
            "148/148 [==============================] - 305s 2s/step - loss: 0.2213 - accuracy: 0.9242 - val_loss: 0.1929 - val_accuracy: 0.9354\n",
            "Epoch 22/50\n",
            "148/148 [==============================] - 305s 2s/step - loss: 0.2309 - accuracy: 0.9189 - val_loss: 0.1449 - val_accuracy: 0.9459\n",
            "Epoch 23/50\n",
            "148/148 [==============================] - 305s 2s/step - loss: 0.2205 - accuracy: 0.9225 - val_loss: 0.2651 - val_accuracy: 0.8988\n",
            "Epoch 24/50\n",
            "148/148 [==============================] - 306s 2s/step - loss: 0.2021 - accuracy: 0.9303 - val_loss: 0.2538 - val_accuracy: 0.8970\n",
            "Epoch 25/50\n",
            "148/148 [==============================] - 306s 2s/step - loss: 0.2010 - accuracy: 0.9280 - val_loss: 0.2304 - val_accuracy: 0.9180\n",
            "Epoch 26/50\n",
            "148/148 [==============================] - 306s 2s/step - loss: 0.2056 - accuracy: 0.9343 - val_loss: 0.1252 - val_accuracy: 0.9599\n",
            "Epoch 27/50\n",
            "148/148 [==============================] - 306s 2s/step - loss: 0.2216 - accuracy: 0.9204 - val_loss: 0.1758 - val_accuracy: 0.9389\n",
            "Epoch 28/50\n",
            "148/148 [==============================] - 306s 2s/step - loss: 0.2015 - accuracy: 0.9316 - val_loss: 0.1856 - val_accuracy: 0.9459\n",
            "Epoch 29/50\n",
            "148/148 [==============================] - 306s 2s/step - loss: 0.1891 - accuracy: 0.9299 - val_loss: 0.1394 - val_accuracy: 0.9511\n",
            "Epoch 30/50\n",
            "148/148 [==============================] - 306s 2s/step - loss: 0.1941 - accuracy: 0.9322 - val_loss: 0.1067 - val_accuracy: 0.9773\n",
            "Epoch 31/50\n",
            "148/148 [==============================] - 306s 2s/step - loss: 0.1861 - accuracy: 0.9381 - val_loss: 0.1079 - val_accuracy: 0.9651\n",
            "Epoch 32/50\n",
            "148/148 [==============================] - 306s 2s/step - loss: 0.1883 - accuracy: 0.9373 - val_loss: 0.1255 - val_accuracy: 0.9634\n",
            "Epoch 33/50\n",
            "148/148 [==============================] - 306s 2s/step - loss: 0.1883 - accuracy: 0.9343 - val_loss: 0.2239 - val_accuracy: 0.9145\n",
            "Epoch 34/50\n",
            "148/148 [==============================] - 306s 2s/step - loss: 0.1834 - accuracy: 0.9354 - val_loss: 0.1935 - val_accuracy: 0.9284\n",
            "Epoch 35/50\n",
            "148/148 [==============================] - 305s 2s/step - loss: 0.1692 - accuracy: 0.9407 - val_loss: 0.2792 - val_accuracy: 0.9058\n",
            "Epoch 36/50\n",
            "148/148 [==============================] - 305s 2s/step - loss: 0.1857 - accuracy: 0.9358 - val_loss: 0.1505 - val_accuracy: 0.9494\n",
            "Epoch 37/50\n",
            "148/148 [==============================] - 305s 2s/step - loss: 0.1701 - accuracy: 0.9447 - val_loss: 0.1632 - val_accuracy: 0.9424\n",
            "Epoch 38/50\n",
            "148/148 [==============================] - 306s 2s/step - loss: 0.1587 - accuracy: 0.9440 - val_loss: 0.1881 - val_accuracy: 0.9354\n",
            "Epoch 39/50\n",
            "148/148 [==============================] - 305s 2s/step - loss: 0.1657 - accuracy: 0.9440 - val_loss: 0.2128 - val_accuracy: 0.9180\n",
            "Epoch 40/50\n",
            "148/148 [==============================] - 305s 2s/step - loss: 0.1794 - accuracy: 0.9375 - val_loss: 0.1172 - val_accuracy: 0.9616\n",
            "Epoch 41/50\n",
            "148/148 [==============================] - 305s 2s/step - loss: 0.1695 - accuracy: 0.9424 - val_loss: 0.2373 - val_accuracy: 0.9197\n",
            "Epoch 42/50\n",
            "148/148 [==============================] - 305s 2s/step - loss: 0.1693 - accuracy: 0.9432 - val_loss: 0.1053 - val_accuracy: 0.9651\n",
            "Epoch 43/50\n",
            "148/148 [==============================] - 305s 2s/step - loss: 0.1726 - accuracy: 0.9415 - val_loss: 0.1672 - val_accuracy: 0.9476\n",
            "Epoch 44/50\n",
            "148/148 [==============================] - 305s 2s/step - loss: 0.1501 - accuracy: 0.9487 - val_loss: 0.1132 - val_accuracy: 0.9564\n",
            "Epoch 45/50\n",
            "148/148 [==============================] - 305s 2s/step - loss: 0.1601 - accuracy: 0.9466 - val_loss: 0.1172 - val_accuracy: 0.9564\n",
            "Epoch 46/50\n",
            "148/148 [==============================] - 305s 2s/step - loss: 0.1524 - accuracy: 0.9472 - val_loss: 0.1848 - val_accuracy: 0.9459\n",
            "Epoch 47/50\n",
            "148/148 [==============================] - 305s 2s/step - loss: 0.1505 - accuracy: 0.9474 - val_loss: 0.1351 - val_accuracy: 0.9546\n",
            "Epoch 48/50\n",
            "148/148 [==============================] - 305s 2s/step - loss: 0.1508 - accuracy: 0.9516 - val_loss: 0.0615 - val_accuracy: 0.9860\n",
            "Epoch 49/50\n",
            "148/148 [==============================] - 305s 2s/step - loss: 0.1509 - accuracy: 0.9474 - val_loss: 0.1255 - val_accuracy: 0.9511\n",
            "Epoch 50/50\n",
            "148/148 [==============================] - 305s 2s/step - loss: 0.1421 - accuracy: 0.9500 - val_loss: 0.1087 - val_accuracy: 0.9651\n"
          ]
        },
        {
          "data": {
            "text/plain": [
              "<Axes: title={'center': 'Accuracy'}>"
            ]
          },
          "execution_count": 41,
          "metadata": {},
          "output_type": "execute_result"
        },
        {
          "data": {
            "image/png": "[encoded data removed]",
            "text/plain": [
              "<Figure size 640x480 with 1 Axes>"
            ]
          },
          "metadata": {},
          "output_type": "display_data"
        },
        {
          "data": {
            "image/png": "[encoded data removed]",
            "text/plain": [
              "<Figure size 640x480 with 1 Axes>"
            ]
          },
          "metadata": {},
          "output_type": "display_data"
        }
      ],
      "source": [
        "# Import pretrained model\n",
        "large_bert = TFAutoModel.from_pretrained('bert-large-uncased')\n",
        "\n",
        "# Set the seed for model training\n",
        "tf.random.set_seed(42)\n",
        "\n",
        "# Define input from Xids and attention mask\n",
        "input_ids = tf.keras.layers.Input(shape = (SEQ_LEN,), name = 'input_ids', dtype ='int32')\n",
        "mask = tf.keras.layers.Input(shape = (SEQ_LEN,), name = 'attention_mask', dtype ='int32')\n",
        "\n",
        "# Create embeddings\n",
        "embeddings = large_bert(input_ids, attention_mask = mask)[0]\n",
        "\n",
        "# Tuned Large BERT model layers\n",
        "X = tf.keras.layers.GlobalMaxPool1D()(embeddings)\n",
        "X = tf.keras.layers.BatchNormalization()(X)\n",
        "X = tf.keras.layers.Dropout(rate = 0.1)(X)\n",
        "X = tf.keras.layers.Dense(128, activation='relu')(X)\n",
        "X = tf.keras.layers.BatchNormalization()(X)\n",
        "X = tf.keras.layers.Dropout(rate = 0.1)(X)\n",
        "X = tf.keras.layers.Dense(128, activation='relu')(X)\n",
        "X = tf.keras.layers.Dense(64, activation='relu')(X)\n",
        "X = tf.keras.layers.BatchNormalization()(X)\n",
        "X = tf.keras.layers.Dense(32, activation = 'relu')(X)\n",
        "X = tf.keras.layers.BatchNormalization()(X)\n",
        "y = tf.keras.layers.Dense(7, activation = 'softmax', name = 'outputs')(X)\n",
        "\n",
        "large_model = tf.keras.Model(inputs = [input_ids, mask], outputs = y)\n",
        "\n",
        "large_model.layers[2].trainable = False  # we freeze Bert parameters\n",
        "\n",
        "# Define early stopping to prevent over-fitting\n",
        "early_stopping = EarlyStopping(\n",
        "    min_delta = 0.001, # minimium amount of change to count as an improvement\n",
        "    patience = 15, # how many epochs to wait before stopping\n",
        "    restore_best_weights = True,\n",
        ")\n",
        "\n",
        "# Set optimiser, loss and accuracy\n",
        "optimizer = tf.keras.optimizers.Adam(0.0001)\n",
        "loss = tf.keras.losses.CategoricalCrossentropy()\n",
        "acc = tf.keras.metrics.CategoricalAccuracy('accuracy')\n",
        "\n",
        "# Compile model\n",
        "large_model.compile(optimizer = optimizer, loss = loss, metrics=[acc])\n",
        "\n",
        "history = large_model.fit(\n",
        "    large_train,\n",
        "    validation_data = large_val,\n",
        "    batch_size = 30,\n",
        "    callbacks = [early_stopping],\n",
        "    epochs = 50\n",
        ")\n",
        "\n",
        "# Display loss and accuracy plots\n",
        "history_df = pd.DataFrame(history.history)\n",
        "history_df.loc[:, ['loss', 'val_loss']].plot(title=\"Cross-entropy\")\n",
        "history_df.loc[:, ['accuracy', 'val_accuracy']].plot(title=\"Accuracy\")"
      ]
    },
    {
      "cell_type": "code",
      "execution_count": null,
      "id": "62693d15",
      "metadata": {
        "execution": {
          "iopub.execute_input": "2024-12-18T01:07:21.690794Z",
          "iopub.status.busy": "2024-12-18T01:07:21.690573Z",
          "iopub.status.idle": "2024-12-18T01:07:21.767784Z",
          "shell.execute_reply": "2024-12-18T01:07:21.767130Z",
          "shell.execute_reply.started": "2024-12-18T01:07:21.690774Z"
        },
        "id": "62693d15",
        "outputId": "13232079-ec19-40d3-a295-fe94399b127b"
      },
      "outputs": [
        {
          "name": "stdout",
          "output_type": "stream",
          "text": [
            "Model: \"model_2\"\n",
            "__________________________________________________________________________________________________\n",
            " Layer (type)                Output Shape                 Param #   Connected to                  \n",
            "==================================================================================================\n",
            " input_ids (InputLayer)      [(None, 420)]                0         []                            \n",
            "                                                                                                  \n",
            " attention_mask (InputLayer  [(None, 420)]                0         []                            \n",
            " )                                                                                                \n",
            "                                                                                                  \n",
            " tf_bert_model_1 (TFBertMod  TFBaseModelOutputWithPooli   3351418   ['input_ids[0][0]',           \n",
            " el)                         ngAndCrossAttentions(last_   88         'attention_mask[0][0]']      \n",
            "                             hidden_state=(None, 420, 1                                           \n",
            "                             024),                                                                \n",
            "                              pooler_output=(None, 1024                                           \n",
            "                             ),                                                                   \n",
            "                              past_key_values=None, hid                                           \n",
            "                             den_states=None, attention                                           \n",
            "                             s=None, cross_attentions=N                                           \n",
            "                             one)                                                                 \n",
            "                                                                                                  \n",
            " global_max_pooling1d_2 (Gl  (None, 1024)                 0         ['tf_bert_model_1[0][0]']     \n",
            " obalMaxPooling1D)                                                                                \n",
            "                                                                                                  \n",
            " batch_normalization_6 (Bat  (None, 1024)                 4096      ['global_max_pooling1d_2[0][0]\n",
            " chNormalization)                                                   ']                            \n",
            "                                                                                                  \n",
            " dropout_132 (Dropout)       (None, 1024)                 0         ['batch_normalization_6[0][0]'\n",
            "                                                                    ]                             \n",
            "                                                                                                  \n",
            " dense_7 (Dense)             (None, 128)                  131200    ['dropout_132[0][0]']         \n",
            "                                                                                                  \n",
            " batch_normalization_7 (Bat  (None, 128)                  512       ['dense_7[0][0]']             \n",
            " chNormalization)                                                                                 \n",
            "                                                                                                  \n",
            " dropout_133 (Dropout)       (None, 128)                  0         ['batch_normalization_7[0][0]'\n",
            "                                                                    ]                             \n",
            "                                                                                                  \n",
            " dense_8 (Dense)             (None, 128)                  16512     ['dropout_133[0][0]']         \n",
            "                                                                                                  \n",
            " dense_9 (Dense)             (None, 64)                   8256      ['dense_8[0][0]']             \n",
            "                                                                                                  \n",
            " batch_normalization_8 (Bat  (None, 64)                   256       ['dense_9[0][0]']             \n",
            " chNormalization)                                                                                 \n",
            "                                                                                                  \n",
            " dense_10 (Dense)            (None, 32)                   2080      ['batch_normalization_8[0][0]'\n",
            "                                                                    ]                             \n",
            "                                                                                                  \n",
            " batch_normalization_9 (Bat  (None, 32)                   128       ['dense_10[0][0]']            \n",
            " chNormalization)                                                                                 \n",
            "                                                                                                  \n",
            " outputs (Dense)             (None, 7)                    231       ['batch_normalization_9[0][0]'\n",
            "                                                                    ]                             \n",
            "                                                                                                  \n",
            "==================================================================================================\n",
            "Total params: 335305159 (1.25 GB)\n",
            "Trainable params: 160775 (628.03 KB)\n",
            "Non-trainable params: 335144384 (1.25 GB)\n",
            "__________________________________________________________________________________________________\n"
          ]
        }
      ],
      "source": [
        "# Display model summary\n",
        "large_model.summary()"
      ]
    },
    {
      "cell_type": "markdown",
      "id": "0murvSffY7Eo",
      "metadata": {
        "id": "0murvSffY7Eo"
      },
      "source": [
        "### Weights saving and loading"
      ]
    },
    {
      "cell_type": "code",
      "execution_count": null,
      "id": "6f239a8e",
      "metadata": {
        "execution": {
          "iopub.execute_input": "2024-12-18T01:14:04.765750Z",
          "iopub.status.busy": "2024-12-18T01:14:04.765052Z",
          "iopub.status.idle": "2024-12-18T01:14:07.063567Z",
          "shell.execute_reply": "2024-12-18T01:14:07.062604Z",
          "shell.execute_reply.started": "2024-12-18T01:14:04.765721Z"
        },
        "id": "6f239a8e"
      },
      "outputs": [],
      "source": [
        "# Save weights after training\n",
        "large_model.save_weights('large_bert_weights.h5')\n",
        "\n"
      ]
    },
    {
      "cell_type": "code",
      "execution_count": null,
      "id": "5299d427",
      "metadata": {
        "execution": {
          "iopub.execute_input": "2024-12-18T01:15:30.509493Z",
          "iopub.status.busy": "2024-12-18T01:15:30.508737Z",
          "iopub.status.idle": "2024-12-18T01:15:31.559236Z",
          "shell.execute_reply": "2024-12-18T01:15:31.558416Z",
          "shell.execute_reply.started": "2024-12-18T01:15:30.509453Z"
        },
        "id": "5299d427"
      },
      "outputs": [],
      "source": [
        "distil_model.save_weights('distil_bert_weights.h5')\n",
        "base_model.save_weights('base_bert_weights.h5')"
      ]
    },
    {
      "cell_type": "code",
      "execution_count": null,
      "id": "91abfed4",
      "metadata": {
        "execution": {
          "iopub.execute_input": "2024-12-18T01:17:14.685761Z",
          "iopub.status.busy": "2024-12-18T01:17:14.685409Z",
          "iopub.status.idle": "2024-12-18T01:17:16.072947Z",
          "shell.execute_reply": "2024-12-18T01:17:16.072188Z",
          "shell.execute_reply.started": "2024-12-18T01:17:14.685732Z"
        },
        "id": "91abfed4"
      },
      "outputs": [],
      "source": [
        "# Resume training later\n",
        "# Step 1: Recreate the model architecture\n",
        "large_model = tf.keras.Model(inputs=[input_ids, mask], outputs=y)\n",
        "\n",
        "# Step 2: Load the saved weights\n",
        "large_model.load_weights('large_bert_weights.h5')"
      ]
    },
    {
      "cell_type": "code",
      "execution_count": null,
      "id": "995bc047",
      "metadata": {
        "execution": {
          "iopub.execute_input": "2024-12-18T01:21:29.866333Z",
          "iopub.status.busy": "2024-12-18T01:21:29.865451Z",
          "iopub.status.idle": "2024-12-18T02:13:04.219551Z",
          "shell.execute_reply": "2024-12-18T02:13:04.218503Z",
          "shell.execute_reply.started": "2024-12-18T01:21:29.866300Z"
        },
        "id": "995bc047",
        "outputId": "a3c4e491-8f8f-453a-973d-66da4c95c70b"
      },
      "outputs": [
        {
          "name": "stdout",
          "output_type": "stream",
          "text": [
            "Epoch 51/60\n",
            "148/148 [==============================] - 338s 2s/step - loss: 0.1280 - accuracy: 0.9569 - val_loss: 0.0847 - val_accuracy: 0.9756\n",
            "Epoch 52/60\n",
            "148/148 [==============================] - 306s 2s/step - loss: 0.1247 - accuracy: 0.9586 - val_loss: 0.0896 - val_accuracy: 0.9616\n",
            "Epoch 53/60\n",
            "148/148 [==============================] - 306s 2s/step - loss: 0.1272 - accuracy: 0.9584 - val_loss: 0.0844 - val_accuracy: 0.9668\n",
            "Epoch 54/60\n",
            "148/148 [==============================] - 306s 2s/step - loss: 0.1225 - accuracy: 0.9601 - val_loss: 0.1124 - val_accuracy: 0.9599\n",
            "Epoch 55/60\n",
            "148/148 [==============================] - 306s 2s/step - loss: 0.1179 - accuracy: 0.9573 - val_loss: 0.0993 - val_accuracy: 0.9703\n",
            "Epoch 56/60\n",
            "148/148 [==============================] - 306s 2s/step - loss: 0.1244 - accuracy: 0.9582 - val_loss: 0.1021 - val_accuracy: 0.9651\n",
            "Epoch 57/60\n",
            "148/148 [==============================] - 307s 2s/step - loss: 0.1170 - accuracy: 0.9580 - val_loss: 0.0680 - val_accuracy: 0.9825\n",
            "Epoch 58/60\n",
            "148/148 [==============================] - 306s 2s/step - loss: 0.1271 - accuracy: 0.9573 - val_loss: 0.0717 - val_accuracy: 0.9738\n",
            "Epoch 59/60\n",
            "148/148 [==============================] - 306s 2s/step - loss: 0.1265 - accuracy: 0.9586 - val_loss: 0.0822 - val_accuracy: 0.9721\n",
            "Epoch 60/60\n",
            "148/148 [==============================] - 306s 2s/step - loss: 0.1244 - accuracy: 0.9569 - val_loss: 0.0867 - val_accuracy: 0.9668\n"
          ]
        }
      ],
      "source": [
        "\n",
        "\n",
        "optimizer = tf.keras.optimizers.Adam(0.00005)\n",
        "\n",
        "# Step 3: Compile and resume training\n",
        "large_model.compile(optimizer=optimizer, loss=loss, metrics=[acc])\n",
        "# Define the starting epoch\n",
        "initial_epoch = 50  # Replace with your desired starting epoch\n",
        "\n",
        "history = large_model.fit(\n",
        "    large_train,\n",
        "    validation_data=large_val,\n",
        "    batch_size=30,\n",
        "    callbacks=[early_stopping],\n",
        "    epochs=60,\n",
        "    initial_epoch=initial_epoch\n",
        ")\n"
      ]
    },
    {
      "cell_type": "markdown",
      "id": "5e2be0ad",
      "metadata": {
        "id": "5e2be0ad"
      },
      "source": [
        "## Eval Metrics and Results\n"
      ]
    },
    {
      "cell_type": "markdown",
      "source": [
        "To generate final predictions, we encoded the hold-out test set using the appropriate tokenizer and converted it into a TensorFlow object. Predicted class labels were obtained by selecting the author with the highest probability. Model performance was then evaluated by comparing predicted labels with true labels to calculate F-1 score and other metrics."
      ],
      "metadata": {
        "id": "giZP8K4TxdIz"
      },
      "id": "giZP8K4TxdIz"
    },
    {
      "cell_type": "code",
      "execution_count": null,
      "id": "40cbec27",
      "metadata": {
        "execution": {
          "iopub.execute_input": "2024-12-18T01:10:44.583614Z",
          "iopub.status.busy": "2024-12-18T01:10:44.582782Z",
          "iopub.status.idle": "2024-12-18T01:10:44.587589Z",
          "shell.execute_reply": "2024-12-18T01:10:44.586716Z",
          "shell.execute_reply.started": "2024-12-18T01:10:44.583582Z"
        },
        "id": "40cbec27"
      },
      "outputs": [],
      "source": [
        "true_labels = np.array(test_set['author_encoded'])\n"
      ]
    },
    {
      "cell_type": "code",
      "execution_count": null,
      "id": "fcc54f13",
      "metadata": {
        "execution": {
          "iopub.execute_input": "2024-12-18T02:37:43.903988Z",
          "iopub.status.busy": "2024-12-18T02:37:43.903330Z",
          "iopub.status.idle": "2024-12-18T02:38:29.120827Z",
          "shell.execute_reply": "2024-12-18T02:38:29.119839Z",
          "shell.execute_reply.started": "2024-12-18T02:37:43.903957Z"
        },
        "id": "fcc54f13",
        "outputId": "43ee0203-3fdb-425c-d0aa-7b654e0f2f34"
      },
      "outputs": [
        {
          "name": "stdout",
          "output_type": "stream",
          "text": [
            "\n",
            "=== LargeBERT Model Evaluation ===\n",
            "Accuracy: 88.81%\n",
            "Macro F1-Score: 88.17%\n",
            "Micro F1-Score: 88.81%\n",
            "Weighted F1-Score: 89.01%\n",
            "Macro Precision: 88.18%\n",
            "Macro Recall: 88.49%\n",
            "\n",
            "=== Detailed Classification Report ===\n",
            "                               precision    recall  f1-score   support\n",
            "\n",
            "          Nathaniel Hawthorne       0.99      0.99      0.99        83\n",
            "                Thomas Holmes       0.79      0.78      0.78        80\n",
            "   L. Adams (Lily Adams) Beck       0.68      0.85      0.75        65\n",
            "                  Henry James       0.94      0.96      0.95        81\n",
            "          Henry Rider Haggard       0.99      0.91      0.95       120\n",
            "4th century Smyrnaeus Quintus       0.92      0.89      0.91        81\n",
            "          William Shakespeare       0.86      0.82      0.84        80\n",
            "\n",
            "                     accuracy                           0.89       590\n",
            "                    macro avg       0.88      0.88      0.88       590\n",
            "                 weighted avg       0.90      0.89      0.89       590\n",
            "\n"
          ]
        }
      ],
      "source": [
        "from sklearn.metrics import f1_score, precision_score, recall_score, classification_report\n",
        "import tensorflow as tf\n",
        "import numpy as np\n",
        "from sklearn.metrics import accuracy_score\n",
        "\n",
        "def prepare_data(text, m_tokenizer, SEQ_LEN):\n",
        "    \"\"\"Tokenize input text using BERT tokenizer\"\"\"\n",
        "    tokens = m_tokenizer.encode_plus(\n",
        "        text,\n",
        "        max_length=SEQ_LEN,\n",
        "        truncation=True,\n",
        "        padding='max_length',\n",
        "        add_special_tokens=True,\n",
        "        return_token_type_ids=False,\n",
        "        return_tensors='tf'\n",
        "    )\n",
        "    return {\n",
        "        'input_ids': tf.cast(tokens['input_ids'], tf.float32),\n",
        "        'attention_mask': tf.cast(tokens['attention_mask'], tf.float32)\n",
        "    }\n",
        "\n",
        "def evaluate_model(test_set, m_model, m_tokenizer, SEQ_LEN, class_names=None):\n",
        "    \"\"\"\n",
        "    Evaluate the model using multiple metrics\n",
        "\n",
        "    Parameters:\n",
        "    -----------\n",
        "    test_set : pandas DataFrame\n",
        "        Dataset containing 'content' and 'author_encoded' columns\n",
        "    distil_model : tf.keras.Model\n",
        "        Trained BERT model\n",
        "    distil_tokenizer : transformers.PreTrainedTokenizer\n",
        "        BERT tokenizer\n",
        "    SEQ_LEN : int\n",
        "        Maximum sequence length\n",
        "    class_names : list, optional\n",
        "        List of class names for the classification report\n",
        "\n",
        "    Returns:\n",
        "    --------\n",
        "    dict\n",
        "        Dictionary containing all evaluation metrics\n",
        "    \"\"\"\n",
        "    # Create a list to store predicted labels\n",
        "    predicted_labels = []\n",
        "    predicted_probs = []\n",
        "\n",
        "    # Iterate through the test set\n",
        "    for idx, row in test_set.iterrows():\n",
        "        content = row['content']\n",
        "        # Prepare data\n",
        "        prepared_data = prepare_data(content, m_tokenizer, SEQ_LEN)\n",
        "        # Make predictions\n",
        "        probs = m_model.predict(prepared_data, verbose=0)\n",
        "        predicted_label = np.argmax(probs[0])\n",
        "        predicted_labels.append(predicted_label)\n",
        "        predicted_probs.append(probs[0])\n",
        "\n",
        "    # Convert lists to numpy arrays\n",
        "    predicted_labels = np.array(predicted_labels)\n",
        "    predicted_probs = np.array(predicted_probs)\n",
        "    true_labels = np.array(test_set['author_encoded'])\n",
        "\n",
        "    # Calculate metrics\n",
        "    metrics = {\n",
        "        'accuracy': accuracy_score(true_labels, predicted_labels),\n",
        "        'macro_f1': f1_score(true_labels, predicted_labels, average='macro'),\n",
        "        'micro_f1': f1_score(true_labels, predicted_labels, average='micro'),\n",
        "        'weighted_f1': f1_score(true_labels, predicted_labels, average='weighted'),\n",
        "        'macro_precision': precision_score(true_labels, predicted_labels, average='macro'),\n",
        "        'macro_recall': recall_score(true_labels, predicted_labels, average='macro')\n",
        "    }\n",
        "\n",
        "    # Generate and print detailed classification report\n",
        "    if class_names is not None:\n",
        "        report = classification_report(\n",
        "            true_labels,\n",
        "            predicted_labels,\n",
        "            target_names=class_names,\n",
        "            output_dict=True\n",
        "        )\n",
        "        metrics['classification_report'] = report\n",
        "\n",
        "    # Print results\n",
        "    print(\"\\n=== LargeBERT Model Evaluation ===\")\n",
        "    print(f\"Accuracy: {metrics['accuracy']*100:.2f}%\")\n",
        "    print(f\"Macro F1-Score: {metrics['macro_f1']*100:.2f}%\")\n",
        "    print(f\"Micro F1-Score: {metrics['micro_f1']*100:.2f}%\")\n",
        "    print(f\"Weighted F1-Score: {metrics['weighted_f1']*100:.2f}%\")\n",
        "    print(f\"Macro Precision: {metrics['macro_precision']*100:.2f}%\")\n",
        "    print(f\"Macro Recall: {metrics['macro_recall']*100:.2f}%\")\n",
        "\n",
        "    if class_names is not None:\n",
        "        print(\"\\n=== Detailed Classification Report ===\")\n",
        "        print(classification_report(true_labels, predicted_labels, target_names=class_names))\n",
        "\n",
        "    return metrics, predicted_labels, predicted_probs\n",
        "\n",
        "metrics, predictions, probabilities = evaluate_model(\n",
        "     test_set,\n",
        "    large_model,\n",
        "    large_tokenizer,\n",
        "    SEQ_LEN,\n",
        "    authors\n",
        " )"
      ]
    },
    {
      "cell_type": "code",
      "execution_count": null,
      "id": "bf08a653",
      "metadata": {
        "execution": {
          "iopub.execute_input": "2024-12-18T02:57:24.699758Z",
          "iopub.status.busy": "2024-12-18T02:57:24.699401Z",
          "iopub.status.idle": "2024-12-18T02:58:22.424569Z",
          "shell.execute_reply": "2024-12-18T02:58:22.423751Z",
          "shell.execute_reply.started": "2024-12-18T02:57:24.699729Z"
        },
        "id": "bf08a653",
        "outputId": "e52334d9-609d-4ae6-a603-788903012f4a"
      },
      "outputs": [
        {
          "name": "stdout",
          "output_type": "stream",
          "text": [
            "\n",
            "=== Base Model Evaluation ===\n",
            "Accuracy: 87.29%\n",
            "Macro F1-Score: 86.29%\n",
            "Micro F1-Score: 87.29%\n",
            "Weighted F1-Score: 87.53%\n",
            "Macro Precision: 86.61%\n",
            "Macro Recall: 86.41%\n",
            "\n",
            "=== Detailed Classification Report ===\n",
            "                               precision    recall  f1-score   support\n",
            "\n",
            "          Nathaniel Hawthorne       0.98      0.98      0.98        83\n",
            "                Thomas Holmes       0.84      0.72      0.78        80\n",
            "   L. Adams (Lily Adams) Beck       0.63      0.75      0.69        65\n",
            "                  Henry James       0.96      0.91      0.94        81\n",
            "          Henry Rider Haggard       1.00      0.94      0.97       120\n",
            "4th century Smyrnaeus Quintus       0.77      0.89      0.83        81\n",
            "          William Shakespeare       0.88      0.85      0.87        80\n",
            "\n",
            "                     accuracy                           0.87       590\n",
            "                    macro avg       0.87      0.86      0.86       590\n",
            "                 weighted avg       0.88      0.87      0.88       590\n",
            "\n"
          ]
        }
      ],
      "source": [
        "from sklearn.metrics import f1_score, precision_score, recall_score, classification_report\n",
        "import tensorflow as tf\n",
        "import numpy as np\n",
        "from sklearn.metrics import accuracy_score\n",
        "\n",
        "def prepare_data(text, m_tokenizer, SEQ_LEN):\n",
        "    \"\"\"Tokenize input text using BERT tokenizer\"\"\"\n",
        "    tokens = m_tokenizer.encode_plus(\n",
        "        text,\n",
        "        max_length=SEQ_LEN,\n",
        "        truncation=True,\n",
        "        padding='max_length',\n",
        "        add_special_tokens=True,\n",
        "        return_token_type_ids=False,\n",
        "        return_tensors='tf'\n",
        "    )\n",
        "    return {\n",
        "        'input_ids': tf.cast(tokens['input_ids'], tf.float32),\n",
        "        'attention_mask': tf.cast(tokens['attention_mask'], tf.float32)\n",
        "    }\n",
        "\n",
        "def evaluate_model(test_set, m_model, m_tokenizer, SEQ_LEN, class_names=None):\n",
        "    \"\"\"\n",
        "    Evaluate the model using multiple metrics\n",
        "\n",
        "    Parameters:\n",
        "    -----------\n",
        "    test_set : pandas DataFrame\n",
        "        Dataset containing 'content' and 'author_encoded' columns\n",
        "    distil_model : tf.keras.Model\n",
        "        Trained BERT model\n",
        "    distil_tokenizer : transformers.PreTrainedTokenizer\n",
        "        BERT tokenizer\n",
        "    SEQ_LEN : int\n",
        "        Maximum sequence length\n",
        "    class_names : list, optional\n",
        "        List of class names for the classification report\n",
        "\n",
        "    Returns:\n",
        "    --------\n",
        "    dict\n",
        "        Dictionary containing all evaluation metrics\n",
        "    \"\"\"\n",
        "    # Create a list to store predicted labels\n",
        "    predicted_labels = []\n",
        "    predicted_probs = []\n",
        "\n",
        "    # Iterate through the test set\n",
        "    for idx, row in test_set.iterrows():\n",
        "        content = row['content']\n",
        "        # Prepare data\n",
        "        prepared_data = prepare_data(content, m_tokenizer, SEQ_LEN)\n",
        "        # Make predictions\n",
        "        probs = m_model.predict(prepared_data, verbose=0)\n",
        "        predicted_label = np.argmax(probs[0])\n",
        "        predicted_labels.append(predicted_label)\n",
        "        predicted_probs.append(probs[0])\n",
        "\n",
        "    # Convert lists to numpy arrays\n",
        "    predicted_labels = np.array(predicted_labels)\n",
        "    predicted_probs = np.array(predicted_probs)\n",
        "    true_labels = np.array(test_set['author_encoded'])\n",
        "\n",
        "    # Calculate metrics\n",
        "    metrics = {\n",
        "        'accuracy': accuracy_score(true_labels, predicted_labels),\n",
        "        'macro_f1': f1_score(true_labels, predicted_labels, average='macro'),\n",
        "        'micro_f1': f1_score(true_labels, predicted_labels, average='micro'),\n",
        "        'weighted_f1': f1_score(true_labels, predicted_labels, average='weighted'),\n",
        "        'macro_precision': precision_score(true_labels, predicted_labels, average='macro'),\n",
        "        'macro_recall': recall_score(true_labels, predicted_labels, average='macro')\n",
        "    }\n",
        "\n",
        "    # Generate and print detailed classification report\n",
        "    if class_names is not None:\n",
        "        report = classification_report(\n",
        "            true_labels,\n",
        "            predicted_labels,\n",
        "            target_names=class_names,\n",
        "            output_dict=True\n",
        "        )\n",
        "        metrics['classification_report'] = report\n",
        "\n",
        "    # Print results\n",
        "    print(\"\\n=== Base Model Evaluation ===\")\n",
        "    print(f\"Accuracy: {metrics['accuracy']*100:.2f}%\")\n",
        "    print(f\"Macro F1-Score: {metrics['macro_f1']*100:.2f}%\")\n",
        "    print(f\"Micro F1-Score: {metrics['micro_f1']*100:.2f}%\")\n",
        "    print(f\"Weighted F1-Score: {metrics['weighted_f1']*100:.2f}%\")\n",
        "    print(f\"Macro Precision: {metrics['macro_precision']*100:.2f}%\")\n",
        "    print(f\"Macro Recall: {metrics['macro_recall']*100:.2f}%\")\n",
        "\n",
        "    if class_names is not None:\n",
        "        print(\"\\n=== Detailed Classification Report ===\")\n",
        "        print(classification_report(true_labels, predicted_labels, target_names=class_names))\n",
        "\n",
        "    return metrics, predicted_labels, predicted_probs\n",
        "\n",
        "metrics, predictions, probabilities = evaluate_model(\n",
        "     test_set,\n",
        "    base_model,\n",
        "     base_tokenizer,\n",
        "    SEQ_LEN,\n",
        "    authors\n",
        " )"
      ]
    },
    {
      "cell_type": "code",
      "execution_count": null,
      "id": "6cb28da3",
      "metadata": {
        "execution": {
          "iopub.execute_input": "2024-12-18T03:24:02.646367Z",
          "iopub.status.busy": "2024-12-18T03:24:02.645649Z",
          "iopub.status.idle": "2024-12-18T03:25:40.154430Z",
          "shell.execute_reply": "2024-12-18T03:25:40.153651Z",
          "shell.execute_reply.started": "2024-12-18T03:24:02.646337Z"
        },
        "id": "6cb28da3",
        "outputId": "ef441ddc-cda1-4ccc-cbe6-24faa82453f2"
      },
      "outputs": [
        {
          "name": "stdout",
          "output_type": "stream",
          "text": [
            "\n",
            "=== DistilBERT Model Evaluation ===\n",
            "Accuracy: 85.08%\n",
            "Macro F1-Score: 84.57%\n",
            "Micro F1-Score: 85.08%\n",
            "Weighted F1-Score: 85.86%\n",
            "Macro Precision: 86.38%\n",
            "Macro Recall: 84.54%\n",
            "\n",
            "=== Detailed Classification Report ===\n",
            "                               precision    recall  f1-score   support\n",
            "\n",
            "          Nathaniel Hawthorne       1.00      0.93      0.96        83\n",
            "                Thomas Holmes       0.71      0.81      0.76        80\n",
            "   L. Adams (Lily Adams) Beck       0.55      0.83      0.66        65\n",
            "                  Henry James       1.00      0.72      0.83        81\n",
            "          Henry Rider Haggard       1.00      0.92      0.96       120\n",
            "4th century Smyrnaeus Quintus       0.88      0.89      0.88        81\n",
            "          William Shakespeare       0.92      0.82      0.87        80\n",
            "\n",
            "                     accuracy                           0.85       590\n",
            "                    macro avg       0.86      0.85      0.85       590\n",
            "                 weighted avg       0.88      0.85      0.86       590\n",
            "\n"
          ]
        }
      ],
      "source": [
        "from sklearn.metrics import f1_score, precision_score, recall_score, classification_report\n",
        "import tensorflow as tf\n",
        "import numpy as np\n",
        "from sklearn.metrics import accuracy_score\n",
        "\n",
        "def prepare_data(text, distil_tokenizer, SEQ_LEN):\n",
        "    \"\"\"Tokenize input text using DistilBERT tokenizer\"\"\"\n",
        "    tokens = distil_tokenizer.encode_plus(\n",
        "        text,\n",
        "        max_length=SEQ_LEN,\n",
        "        truncation=True,\n",
        "        padding='max_length',\n",
        "        add_special_tokens=True,\n",
        "        return_token_type_ids=False,\n",
        "        return_tensors='tf'\n",
        "    )\n",
        "    return {\n",
        "        'input_ids': tf.cast(tokens['input_ids'], tf.float32),\n",
        "        'attention_mask': tf.cast(tokens['attention_mask'], tf.float32)\n",
        "    }\n",
        "\n",
        "def evaluate_model(test_set, distil_model, distil_tokenizer, SEQ_LEN, class_names=None):\n",
        "    \"\"\"\n",
        "    Evaluate the model using multiple metrics\n",
        "\n",
        "    Parameters:\n",
        "    -----------\n",
        "    test_set : pandas DataFrame\n",
        "        Dataset containing 'content' and 'author_encoded' columns\n",
        "    distil_model : tf.keras.Model\n",
        "        Trained DistilBERT model\n",
        "    distil_tokenizer : transformers.PreTrainedTokenizer\n",
        "        DistilBERT tokenizer\n",
        "    SEQ_LEN : int\n",
        "        Maximum sequence length\n",
        "    class_names : list, optional\n",
        "        List of class names for the classification report\n",
        "\n",
        "    Returns:\n",
        "    --------\n",
        "    dict\n",
        "        Dictionary containing all evaluation metrics\n",
        "    \"\"\"\n",
        "    # Create a list to store predicted labels\n",
        "    predicted_labels = []\n",
        "    predicted_probs = []\n",
        "\n",
        "    # Iterate through the test set\n",
        "    for idx, row in test_set.iterrows():\n",
        "        content = row['content']\n",
        "        # Prepare data\n",
        "        prepared_data = prepare_data(content, distil_tokenizer, SEQ_LEN)\n",
        "        # Make predictions\n",
        "        probs = distil_model.predict(prepared_data, verbose=0)\n",
        "        predicted_label = np.argmax(probs[0])\n",
        "        predicted_labels.append(predicted_label)\n",
        "        predicted_probs.append(probs[0])\n",
        "\n",
        "    # Convert lists to numpy arrays\n",
        "    predicted_labels = np.array(predicted_labels)\n",
        "    predicted_probs = np.array(predicted_probs)\n",
        "    true_labels = np.array(test_set['author_encoded'])\n",
        "\n",
        "    # Calculate metrics\n",
        "    metrics = {\n",
        "        'accuracy': accuracy_score(true_labels, predicted_labels),\n",
        "        'macro_f1': f1_score(true_labels, predicted_labels, average='macro'),\n",
        "        'micro_f1': f1_score(true_labels, predicted_labels, average='micro'),\n",
        "        'weighted_f1': f1_score(true_labels, predicted_labels, average='weighted'),\n",
        "        'macro_precision': precision_score(true_labels, predicted_labels, average='macro'),\n",
        "        'macro_recall': recall_score(true_labels, predicted_labels, average='macro')\n",
        "    }\n",
        "\n",
        "    # Generate and print detailed classification report\n",
        "    if class_names is not None:\n",
        "        report = classification_report(\n",
        "            true_labels,\n",
        "            predicted_labels,\n",
        "            target_names=class_names,\n",
        "            output_dict=True\n",
        "        )\n",
        "        metrics['classification_report'] = report\n",
        "\n",
        "    # Print results\n",
        "    print(\"\\n=== DistilBERT Model Evaluation ===\")\n",
        "    print(f\"Accuracy: {metrics['accuracy']*100:.2f}%\")\n",
        "    print(f\"Macro F1-Score: {metrics['macro_f1']*100:.2f}%\")\n",
        "    print(f\"Micro F1-Score: {metrics['micro_f1']*100:.2f}%\")\n",
        "    print(f\"Weighted F1-Score: {metrics['weighted_f1']*100:.2f}%\")\n",
        "    print(f\"Macro Precision: {metrics['macro_precision']*100:.2f}%\")\n",
        "    print(f\"Macro Recall: {metrics['macro_recall']*100:.2f}%\")\n",
        "\n",
        "    if class_names is not None:\n",
        "        print(\"\\n=== Detailed Classification Report ===\")\n",
        "        print(classification_report(true_labels, predicted_labels, target_names=class_names))\n",
        "\n",
        "    return metrics, predicted_labels, predicted_probs\n",
        "\n",
        "metrics, predictions, probabilities = evaluate_model(\n",
        "     test_set,\n",
        "    distil_model,\n",
        "     distil_tokenizer,\n",
        "    SEQ_LEN,\n",
        "    authors\n",
        " )"
      ]
    },
    {
      "cell_type": "code",
      "execution_count": null,
      "id": "c9474399",
      "metadata": {
        "execution": {
          "iopub.execute_input": "2024-12-18T03:35:05.299677Z",
          "iopub.status.busy": "2024-12-18T03:35:05.298810Z",
          "iopub.status.idle": "2024-12-18T03:35:05.304875Z",
          "shell.execute_reply": "2024-12-18T03:35:05.304205Z",
          "shell.execute_reply.started": "2024-12-18T03:35:05.299641Z"
        },
        "id": "c9474399",
        "outputId": "cfabfcab-661a-4bbc-e8bf-e44bc5ea3f18"
      },
      "outputs": [
        {
          "data": {
            "text/html": [
              "<a href='large_bert_weights.h5' target='_blank'>large_bert_weights.h5</a><br>"
            ],
            "text/plain": [
              "/kaggle/working/large_bert_weights.h5"
            ]
          },
          "execution_count": 77,
          "metadata": {},
          "output_type": "execute_result"
        }
      ],
      "source": [
        "from IPython.display import FileLink\n",
        "FileLink('base_bert_weights.h5')"
      ]
    },
    {
      "cell_type": "markdown",
      "id": "6fccb313",
      "metadata": {
        "id": "6fccb313"
      },
      "source": [
        "### Visual Comparison\n",
        "Our results were that LargeBERT and BERT base perform similarly well, whereas  distilBERT has a slightly lower performance at 86%."
      ]
    },
    {
      "cell_type": "code",
      "execution_count": null,
      "id": "50aab1ac",
      "metadata": {
        "execution": {
          "iopub.execute_input": "2024-12-18T05:23:41.100973Z",
          "iopub.status.busy": "2024-12-18T05:23:41.100547Z",
          "iopub.status.idle": "2024-12-18T05:23:41.338509Z",
          "shell.execute_reply": "2024-12-18T05:23:41.337728Z",
          "shell.execute_reply.started": "2024-12-18T05:23:41.100943Z"
        },
        "id": "50aab1ac",
        "outputId": "cefd4417-1efd-477e-c1d8-316fd096906c"
      },
      "outputs": [
        {
          "data": {
            "text/plain": [
              "<function matplotlib.pyplot.show(close=None, block=None)>"
            ]
          },
          "execution_count": 3,
          "metadata": {},
          "output_type": "execute_result"
        },
        {
          "data": {
            "image/png": "[encoded data removed]",
            "text/plain": [
              "<Figure size 640x480 with 1 Axes>"
            ]
          },
          "metadata": {},
          "output_type": "display_data"
        }
      ],
      "source": [
        "import matplotlib.pyplot as plt\n",
        "import numpy as np\n",
        "\n",
        "# F-1 values\n",
        "bert_base_acc = 0.89\n",
        "large_bert_acc = 0.85\n",
        "distil_bert_acc = 0.89\n",
        "\n",
        "# Create data for the grouped bar chart\n",
        "accuracies = np.array([distil_bert_acc, bert_base_acc, large_bert_acc])\n",
        "labels = ['Bert Distil', 'Bert Base', 'Large Bert']\n",
        "\n",
        "# Pastel colors\n",
        "pastel_colors = ['#FFD1DC', '#B0E57C', '#ADD8E6']\n",
        "\n",
        "# Plotting the bar chart with text labels\n",
        "fig, ax = plt.subplots()\n",
        "bars = ax.bar(labels, accuracies, color=pastel_colors)\n",
        "\n",
        "# Adding text labels on top of the bars with larger font size\n",
        "for bar, acc in zip(bars, accuracies):\n",
        "    height = bar.get_height()\n",
        "    ax.text(bar.get_x() + bar.get_width() / 2, height, f'{acc:.2f}', ha = 'center', va = 'bottom', fontsize = 12)\n",
        "\n",
        "sns.reset_orig()\n",
        "# Altering plot aesthetics\n",
        "plt.xticks(fontsize = 12)\n",
        "ax.spines['top'].set_visible(False)\n",
        "ax.spines['right'].set_visible(False)\n",
        "plt.title('Model Accuracies')\n",
        "plt.ylabel('Accuracy', fontsize = 12)\n",
        "plt.ylim(0, 1)\n",
        "ax.spines['top'].set_visible(False)\n",
        "ax.spines['right'].set_visible(False)\n",
        "plt.show"
      ]
    },
    {
      "cell_type": "code",
      "execution_count": null,
      "id": "62c5ae9b",
      "metadata": {
        "execution": {
          "iopub.execute_input": "2024-12-17T03:44:26.066522Z",
          "iopub.status.busy": "2024-12-17T03:44:26.065646Z",
          "iopub.status.idle": "2024-12-17T03:44:26.443680Z",
          "shell.execute_reply": "2024-12-17T03:44:26.442990Z",
          "shell.execute_reply.started": "2024-12-17T03:44:26.066490Z"
        },
        "id": "62c5ae9b",
        "outputId": "4977aa94-9dec-44f1-b82d-ef9e437bc1ea"
      },
      "outputs": [
        {
          "data": {
            "image/png": "[encoded data removed]",
            "text/plain": [
              "<Figure size 500x400 with 2 Axes>"
            ]
          },
          "metadata": {},
          "output_type": "display_data"
        }
      ],
      "source": [
        "# Creating a confusion matrix, which compares the y_test and y_pred\n",
        "from sklearn.metrics import confusion_matrix\n",
        "cm = confusion_matrix(true_labels, distil_predicted_labels)\n",
        "\n",
        "cm_df = pd.DataFrame(cm,\n",
        "                     index = [\"4th century Smyrnaeus Quintus\", \"Henry James\",\n",
        "                              \"Henry Rider Haggard\", \"L. Adams (Lily Adams) Beck\",\n",
        "                              \"Nathaniel Hawthorne\", \"Thomas Holmes\", \"William Shakespeare\"],\n",
        "                     columns = [\"4th century Smyrnaeus Quintus\", \"Henry James\",\n",
        "                              \"Henry Rider Haggard\", \"L. Adams (Lily Adams) Beck\",\n",
        "                              \"Nathaniel Hawthorne\", \"Thomas Holmes\", \"William Shakespeare\"])\n",
        "\n",
        "#Plotting the confusion matrix\n",
        "plt.figure(figsize=(5,4))\n",
        "sns.heatmap(cm_df, annot=True)\n",
        "plt.title('Confusion Matrix')\n",
        "plt.ylabel('Actal Values')\n",
        "plt.xlabel('Predicted Values')\n",
        "plt.show()\n",
        "\n",
        "from wordcloud import WordCloud\n",
        "import matplotlib.pyplot as plt\n",
        "\n",
        "authors = [\"4th century Smyrnaeus Quintus\", \"Henry James\",\n",
        "           \"Henry Rider Haggard\", \"L. Adams (Lily Adams) Beck\",\n",
        "           \"Nathaniel Hawthorne\", \"Thomas Holmes\", \"William Shakespeare\"]\n",
        "\n",
        "plt.figure(figsize=(15, 10))\n",
        "\n",
        "for author in authors:\n",
        "    author_data = data[data['author'] == author]\n",
        "    author_text = ' '.join(author_data['content'].astype(str))\n",
        "\n",
        "    wordcloud = WordCloud(width=800, height=400, background_color='white', max_words=50)\n",
        "    wordcloud.generate(author_text)\n",
        "\n",
        "    plt.subplot(2, 4, authors.index(author) + 1)\n",
        "    plt.imshow(wordcloud, interpolation='bilinear')\n",
        "    plt.axis('off')\n",
        "    plt.title(author)\n",
        "\n",
        "plt.show()"
      ]
    }
  ],
  "metadata": {
    "colab": {
      "provenance": []
    },
    "kaggle": {
      "accelerator": "gpu",
      "dataSources": [
        {
          "datasetId": 4132340,
          "sourceId": 7155644,
          "sourceType": "datasetVersion"
        }
      ],
      "dockerImageVersionId": 30615,
      "isGpuEnabled": true,
      "isInternetEnabled": true,
      "language": "python",
      "sourceType": "notebook"
    },
    "kernelspec": {
      "display_name": "Python 3",
      "language": "python",
      "name": "python3"
    },
    "language_info": {
      "codemirror_mode": {
        "name": "ipython",
        "version": 3
      },
      "file_extension": ".py",
      "mimetype": "text/x-python",
      "name": "python",
      "nbconvert_exporter": "python",
      "pygments_lexer": "ipython3",
      "version": "3.9.6"
    }
  },
  "nbformat": 4,
  "nbformat_minor": 5
}